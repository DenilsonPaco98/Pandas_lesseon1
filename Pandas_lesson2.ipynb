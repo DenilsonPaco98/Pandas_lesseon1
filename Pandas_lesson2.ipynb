{
  "nbformat": 4,
  "nbformat_minor": 0,
  "metadata": {
    "colab": {
      "name": "Pandas_lesson2.ipynb",
      "provenance": [],
      "authorship_tag": "ABX9TyMCXRTMPKdm/xFmhkm/8015",
      "include_colab_link": true
    },
    "kernelspec": {
      "name": "python3",
      "display_name": "Python 3"
    },
    "language_info": {
      "name": "python"
    }
  },
  "cells": [
    {
      "cell_type": "markdown",
      "metadata": {
        "id": "view-in-github",
        "colab_type": "text"
      },
      "source": [
        "<a href=\"https://colab.research.google.com/github/DenilsonPaco98/Pandas_lesson/blob/main/Pandas_lesson2.ipynb\" target=\"_parent\"><img src=\"https://colab.research.google.com/assets/colab-badge.svg\" alt=\"Open In Colab\"/></a>"
      ]
    },
    {
      "cell_type": "markdown",
      "metadata": {
        "id": "EREbvSuBQpZ5"
      },
      "source": [
        "<h1>Bem Vindo !\n",
        "\n",
        "Este é um mini introdutório do pandas em python, estarei mandando mais e mais tutorias será disponibilizado o arquivo CSV, utilizado neste notebook e assim poderam se divertir um pouco!\n",
        "\n",
        "Segue meu github :https://github.com/DenilsonPaco98\n",
        "\n",
        "Linkedin : https://www.linkedin.com/in/denilson-paco-24b629181/\n",
        "\n",
        "CSV : https://raw.githubusercontent.com/pandas-dev/pandas/master/doc/data/titanic.csv\n",
        "\n",
        "** Recurso retirado diretamentamente da Documentação :\n"
      ]
    },
    {
      "cell_type": "markdown",
      "metadata": {
        "id": "ZeVLRcfqW3K5"
      },
      "source": [
        "![image.png](data:image/png;base64,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)"
      ]
    },
    {
      "cell_type": "code",
      "metadata": {
        "id": "VnSyrA50o8vT"
      },
      "source": [
        "#Para se fazer uma importação em pandas \n",
        "import pandas as pd "
      ],
      "execution_count": null,
      "outputs": []
    },
    {
      "cell_type": "code",
      "metadata": {
        "id": "23aJ-Ya1pHpi"
      },
      "source": [
        "#Pandas trabalha com Dataframe , vamos criar um !\n",
        "\n",
        "df = pd.DataFrame(\n",
        "\n",
        "    {\n",
        "        \"Name\":[\n",
        "                \"Denilson, Paco Quispe\",\n",
        "                \"João, Vinicius Da Costa\",\n",
        "                \"Ricardo, Fontoura Lopes\",\n",
        "        ],\n",
        "          \"Age\":[20,30,36],\n",
        "        \"Sex\":[\"masc\",\"fem\",\"masc\"]\n",
        "    }\n",
        "\n",
        ")\n"
      ],
      "execution_count": null,
      "outputs": []
    },
    {
      "cell_type": "code",
      "metadata": {
        "colab": {
          "base_uri": "https://localhost:8080/",
          "height": 142
        },
        "id": "Mx-Sb60ap-uU",
        "outputId": "734afc8f-2b06-4311-dbb6-4404496a8298"
      },
      "source": [
        "df"
      ],
      "execution_count": null,
      "outputs": [
        {
          "output_type": "execute_result",
          "data": {
            "text/html": [
              "<div>\n",
              "<style scoped>\n",
              "    .dataframe tbody tr th:only-of-type {\n",
              "        vertical-align: middle;\n",
              "    }\n",
              "\n",
              "    .dataframe tbody tr th {\n",
              "        vertical-align: top;\n",
              "    }\n",
              "\n",
              "    .dataframe thead th {\n",
              "        text-align: right;\n",
              "    }\n",
              "</style>\n",
              "<table border=\"1\" class=\"dataframe\">\n",
              "  <thead>\n",
              "    <tr style=\"text-align: right;\">\n",
              "      <th></th>\n",
              "      <th>Name</th>\n",
              "      <th>Age</th>\n",
              "      <th>Sex</th>\n",
              "    </tr>\n",
              "  </thead>\n",
              "  <tbody>\n",
              "    <tr>\n",
              "      <th>0</th>\n",
              "      <td>Denilson, Paco Quispe</td>\n",
              "      <td>20</td>\n",
              "      <td>masc</td>\n",
              "    </tr>\n",
              "    <tr>\n",
              "      <th>1</th>\n",
              "      <td>João, Vinicius Da Costa</td>\n",
              "      <td>30</td>\n",
              "      <td>fem</td>\n",
              "    </tr>\n",
              "    <tr>\n",
              "      <th>2</th>\n",
              "      <td>Ricardo, Fontoura Lopes</td>\n",
              "      <td>36</td>\n",
              "      <td>masc</td>\n",
              "    </tr>\n",
              "  </tbody>\n",
              "</table>\n",
              "</div>"
            ],
            "text/plain": [
              "                      Name  Age   Sex\n",
              "0    Denilson, Paco Quispe   20  masc\n",
              "1  João, Vinicius Da Costa   30   fem\n",
              "2  Ricardo, Fontoura Lopes   36  masc"
            ]
          },
          "metadata": {},
          "execution_count": 7
        }
      ]
    },
    {
      "cell_type": "code",
      "metadata": {
        "colab": {
          "base_uri": "https://localhost:8080/"
        },
        "id": "ZAhwT1a1rDgo",
        "outputId": "23480375-e023-4011-b9fe-59fd82eccef3"
      },
      "source": [
        "#Estou apenas interessado em trabalhar com os dados da coluna \"AGE\"\n",
        "df[\"Age\"]"
      ],
      "execution_count": null,
      "outputs": [
        {
          "output_type": "execute_result",
          "data": {
            "text/plain": [
              "0    20\n",
              "1    30\n",
              "2    36\n",
              "Name: Age, dtype: int64"
            ]
          },
          "metadata": {},
          "execution_count": 8
        }
      ]
    },
    {
      "cell_type": "code",
      "metadata": {
        "colab": {
          "base_uri": "https://localhost:8080/",
          "height": 85
        },
        "id": "Bll4PgmOr81g",
        "outputId": "07d05e7d-5b8a-420e-8c8e-56d0b2e02114"
      },
      "source": [
        "#Se estiver familiarizado com o python vc pode criar uma séries do zero\n",
        "ages = pd.Series([22,36,45], name=\"Age\")\n",
        "display(ages)"
      ],
      "execution_count": null,
      "outputs": [
        {
          "output_type": "display_data",
          "data": {
            "text/plain": [
              "0    22\n",
              "1    36\n",
              "2    45\n",
              "Name: Age, dtype: int64"
            ]
          },
          "metadata": {}
        }
      ]
    },
    {
      "cell_type": "code",
      "metadata": {
        "colab": {
          "base_uri": "https://localhost:8080/",
          "height": 142
        },
        "id": "oqyP2ISosSfP",
        "outputId": "81785c7f-321c-41f6-84a6-838efec39e1c"
      },
      "source": [
        "display(df)"
      ],
      "execution_count": null,
      "outputs": [
        {
          "output_type": "display_data",
          "data": {
            "text/html": [
              "<div>\n",
              "<style scoped>\n",
              "    .dataframe tbody tr th:only-of-type {\n",
              "        vertical-align: middle;\n",
              "    }\n",
              "\n",
              "    .dataframe tbody tr th {\n",
              "        vertical-align: top;\n",
              "    }\n",
              "\n",
              "    .dataframe thead th {\n",
              "        text-align: right;\n",
              "    }\n",
              "</style>\n",
              "<table border=\"1\" class=\"dataframe\">\n",
              "  <thead>\n",
              "    <tr style=\"text-align: right;\">\n",
              "      <th></th>\n",
              "      <th>Name</th>\n",
              "      <th>Age</th>\n",
              "      <th>Sex</th>\n",
              "    </tr>\n",
              "  </thead>\n",
              "  <tbody>\n",
              "    <tr>\n",
              "      <th>0</th>\n",
              "      <td>Denilson, Paco Quispe</td>\n",
              "      <td>20</td>\n",
              "      <td>masc</td>\n",
              "    </tr>\n",
              "    <tr>\n",
              "      <th>1</th>\n",
              "      <td>João, Vinicius Da Costa</td>\n",
              "      <td>30</td>\n",
              "      <td>fem</td>\n",
              "    </tr>\n",
              "    <tr>\n",
              "      <th>2</th>\n",
              "      <td>Ricardo, Fontoura Lopes</td>\n",
              "      <td>36</td>\n",
              "      <td>masc</td>\n",
              "    </tr>\n",
              "  </tbody>\n",
              "</table>\n",
              "</div>"
            ],
            "text/plain": [
              "                      Name  Age   Sex\n",
              "0    Denilson, Paco Quispe   20  masc\n",
              "1  João, Vinicius Da Costa   30   fem\n",
              "2  Ricardo, Fontoura Lopes   36  masc"
            ]
          },
          "metadata": {}
        }
      ]
    },
    {
      "cell_type": "code",
      "metadata": {
        "colab": {
          "base_uri": "https://localhost:8080/"
        },
        "id": "wx9FrkGmsmK4",
        "outputId": "f6287b5d-0b71-468e-ce3b-8d35bcc22843"
      },
      "source": [
        "#A idade maxima dos passageiros\n",
        "df[\"Age\"].max()"
      ],
      "execution_count": null,
      "outputs": [
        {
          "output_type": "execute_result",
          "data": {
            "text/plain": [
              "36"
            ]
          },
          "metadata": {},
          "execution_count": 11
        }
      ]
    },
    {
      "cell_type": "code",
      "metadata": {
        "colab": {
          "base_uri": "https://localhost:8080/"
        },
        "id": "neNw3VAZtITE",
        "outputId": "4e35e8fc-3711-4f30-c318-5181d7e93192"
      },
      "source": [
        "ages.max()"
      ],
      "execution_count": null,
      "outputs": [
        {
          "output_type": "execute_result",
          "data": {
            "text/plain": [
              "45"
            ]
          },
          "metadata": {
            "tags": []
          },
          "execution_count": 44
        }
      ]
    },
    {
      "cell_type": "code",
      "metadata": {
        "colab": {
          "base_uri": "https://localhost:8080/",
          "height": 297
        },
        "id": "onzjwYL7tW6I",
        "outputId": "30a93385-86ce-4082-c4d9-ea6840f6b548"
      },
      "source": [
        "#A função describe() ajuda a dar uma descrição geral sobre a média,soma,min ... e entre outras\n",
        "df.describe()"
      ],
      "execution_count": null,
      "outputs": [
        {
          "output_type": "execute_result",
          "data": {
            "text/html": [
              "<div>\n",
              "<style scoped>\n",
              "    .dataframe tbody tr th:only-of-type {\n",
              "        vertical-align: middle;\n",
              "    }\n",
              "\n",
              "    .dataframe tbody tr th {\n",
              "        vertical-align: top;\n",
              "    }\n",
              "\n",
              "    .dataframe thead th {\n",
              "        text-align: right;\n",
              "    }\n",
              "</style>\n",
              "<table border=\"1\" class=\"dataframe\">\n",
              "  <thead>\n",
              "    <tr style=\"text-align: right;\">\n",
              "      <th></th>\n",
              "      <th>Age</th>\n",
              "    </tr>\n",
              "  </thead>\n",
              "  <tbody>\n",
              "    <tr>\n",
              "      <th>count</th>\n",
              "      <td>3.000000</td>\n",
              "    </tr>\n",
              "    <tr>\n",
              "      <th>mean</th>\n",
              "      <td>28.666667</td>\n",
              "    </tr>\n",
              "    <tr>\n",
              "      <th>std</th>\n",
              "      <td>8.082904</td>\n",
              "    </tr>\n",
              "    <tr>\n",
              "      <th>min</th>\n",
              "      <td>20.000000</td>\n",
              "    </tr>\n",
              "    <tr>\n",
              "      <th>25%</th>\n",
              "      <td>25.000000</td>\n",
              "    </tr>\n",
              "    <tr>\n",
              "      <th>50%</th>\n",
              "      <td>30.000000</td>\n",
              "    </tr>\n",
              "    <tr>\n",
              "      <th>75%</th>\n",
              "      <td>33.000000</td>\n",
              "    </tr>\n",
              "    <tr>\n",
              "      <th>max</th>\n",
              "      <td>36.000000</td>\n",
              "    </tr>\n",
              "  </tbody>\n",
              "</table>\n",
              "</div>"
            ],
            "text/plain": [
              "             Age\n",
              "count   3.000000\n",
              "mean   28.666667\n",
              "std     8.082904\n",
              "min    20.000000\n",
              "25%    25.000000\n",
              "50%    30.000000\n",
              "75%    33.000000\n",
              "max    36.000000"
            ]
          },
          "metadata": {},
          "execution_count": 12
        }
      ]
    },
    {
      "cell_type": "code",
      "metadata": {
        "id": "mXvdxBBgt_VH"
      },
      "source": [
        "#Vou jogar o nome na qual se chamará meu DataFrame : 'titanic_df' e lemos o arquivo com o pd.read_\"type archive\"(\"name archive\")\n",
        "titanic_df = pd.read_csv(\"titanic.csv\")"
      ],
      "execution_count": null,
      "outputs": []
    },
    {
      "cell_type": "code",
      "metadata": {
        "colab": {
          "base_uri": "https://localhost:8080/",
          "height": 419
        },
        "id": "_7rFdwif28GI",
        "outputId": "c8bd07c2-458d-4fa9-f156-470d9746c7f4"
      },
      "source": [
        "titanic_df"
      ],
      "execution_count": null,
      "outputs": [
        {
          "output_type": "execute_result",
          "data": {
            "text/html": [
              "<div>\n",
              "<style scoped>\n",
              "    .dataframe tbody tr th:only-of-type {\n",
              "        vertical-align: middle;\n",
              "    }\n",
              "\n",
              "    .dataframe tbody tr th {\n",
              "        vertical-align: top;\n",
              "    }\n",
              "\n",
              "    .dataframe thead th {\n",
              "        text-align: right;\n",
              "    }\n",
              "</style>\n",
              "<table border=\"1\" class=\"dataframe\">\n",
              "  <thead>\n",
              "    <tr style=\"text-align: right;\">\n",
              "      <th></th>\n",
              "      <th>PassengerId</th>\n",
              "      <th>Survived</th>\n",
              "      <th>Pclass</th>\n",
              "      <th>Name</th>\n",
              "      <th>Sex</th>\n",
              "      <th>Age</th>\n",
              "      <th>SibSp</th>\n",
              "      <th>Parch</th>\n",
              "      <th>Ticket</th>\n",
              "      <th>Fare</th>\n",
              "      <th>Cabin</th>\n",
              "      <th>Embarked</th>\n",
              "    </tr>\n",
              "  </thead>\n",
              "  <tbody>\n",
              "    <tr>\n",
              "      <th>0</th>\n",
              "      <td>1</td>\n",
              "      <td>0</td>\n",
              "      <td>3</td>\n",
              "      <td>Braund, Mr. Owen Harris</td>\n",
              "      <td>male</td>\n",
              "      <td>22.0</td>\n",
              "      <td>1</td>\n",
              "      <td>0</td>\n",
              "      <td>A/5 21171</td>\n",
              "      <td>7.2500</td>\n",
              "      <td>NaN</td>\n",
              "      <td>S</td>\n",
              "    </tr>\n",
              "    <tr>\n",
              "      <th>1</th>\n",
              "      <td>2</td>\n",
              "      <td>1</td>\n",
              "      <td>1</td>\n",
              "      <td>Cumings, Mrs. John Bradley (Florence Briggs Th...</td>\n",
              "      <td>female</td>\n",
              "      <td>38.0</td>\n",
              "      <td>1</td>\n",
              "      <td>0</td>\n",
              "      <td>PC 17599</td>\n",
              "      <td>71.2833</td>\n",
              "      <td>C85</td>\n",
              "      <td>C</td>\n",
              "    </tr>\n",
              "    <tr>\n",
              "      <th>2</th>\n",
              "      <td>3</td>\n",
              "      <td>1</td>\n",
              "      <td>3</td>\n",
              "      <td>Heikkinen, Miss. Laina</td>\n",
              "      <td>female</td>\n",
              "      <td>26.0</td>\n",
              "      <td>0</td>\n",
              "      <td>0</td>\n",
              "      <td>STON/O2. 3101282</td>\n",
              "      <td>7.9250</td>\n",
              "      <td>NaN</td>\n",
              "      <td>S</td>\n",
              "    </tr>\n",
              "    <tr>\n",
              "      <th>3</th>\n",
              "      <td>4</td>\n",
              "      <td>1</td>\n",
              "      <td>1</td>\n",
              "      <td>Futrelle, Mrs. Jacques Heath (Lily May Peel)</td>\n",
              "      <td>female</td>\n",
              "      <td>35.0</td>\n",
              "      <td>1</td>\n",
              "      <td>0</td>\n",
              "      <td>113803</td>\n",
              "      <td>53.1000</td>\n",
              "      <td>C123</td>\n",
              "      <td>S</td>\n",
              "    </tr>\n",
              "    <tr>\n",
              "      <th>4</th>\n",
              "      <td>5</td>\n",
              "      <td>0</td>\n",
              "      <td>3</td>\n",
              "      <td>Allen, Mr. William Henry</td>\n",
              "      <td>male</td>\n",
              "      <td>35.0</td>\n",
              "      <td>0</td>\n",
              "      <td>0</td>\n",
              "      <td>373450</td>\n",
              "      <td>8.0500</td>\n",
              "      <td>NaN</td>\n",
              "      <td>S</td>\n",
              "    </tr>\n",
              "    <tr>\n",
              "      <th>...</th>\n",
              "      <td>...</td>\n",
              "      <td>...</td>\n",
              "      <td>...</td>\n",
              "      <td>...</td>\n",
              "      <td>...</td>\n",
              "      <td>...</td>\n",
              "      <td>...</td>\n",
              "      <td>...</td>\n",
              "      <td>...</td>\n",
              "      <td>...</td>\n",
              "      <td>...</td>\n",
              "      <td>...</td>\n",
              "    </tr>\n",
              "    <tr>\n",
              "      <th>886</th>\n",
              "      <td>887</td>\n",
              "      <td>0</td>\n",
              "      <td>2</td>\n",
              "      <td>Montvila, Rev. Juozas</td>\n",
              "      <td>male</td>\n",
              "      <td>27.0</td>\n",
              "      <td>0</td>\n",
              "      <td>0</td>\n",
              "      <td>211536</td>\n",
              "      <td>13.0000</td>\n",
              "      <td>NaN</td>\n",
              "      <td>S</td>\n",
              "    </tr>\n",
              "    <tr>\n",
              "      <th>887</th>\n",
              "      <td>888</td>\n",
              "      <td>1</td>\n",
              "      <td>1</td>\n",
              "      <td>Graham, Miss. Margaret Edith</td>\n",
              "      <td>female</td>\n",
              "      <td>19.0</td>\n",
              "      <td>0</td>\n",
              "      <td>0</td>\n",
              "      <td>112053</td>\n",
              "      <td>30.0000</td>\n",
              "      <td>B42</td>\n",
              "      <td>S</td>\n",
              "    </tr>\n",
              "    <tr>\n",
              "      <th>888</th>\n",
              "      <td>889</td>\n",
              "      <td>0</td>\n",
              "      <td>3</td>\n",
              "      <td>Johnston, Miss. Catherine Helen \"Carrie\"</td>\n",
              "      <td>female</td>\n",
              "      <td>NaN</td>\n",
              "      <td>1</td>\n",
              "      <td>2</td>\n",
              "      <td>W./C. 6607</td>\n",
              "      <td>23.4500</td>\n",
              "      <td>NaN</td>\n",
              "      <td>S</td>\n",
              "    </tr>\n",
              "    <tr>\n",
              "      <th>889</th>\n",
              "      <td>890</td>\n",
              "      <td>1</td>\n",
              "      <td>1</td>\n",
              "      <td>Behr, Mr. Karl Howell</td>\n",
              "      <td>male</td>\n",
              "      <td>26.0</td>\n",
              "      <td>0</td>\n",
              "      <td>0</td>\n",
              "      <td>111369</td>\n",
              "      <td>30.0000</td>\n",
              "      <td>C148</td>\n",
              "      <td>C</td>\n",
              "    </tr>\n",
              "    <tr>\n",
              "      <th>890</th>\n",
              "      <td>891</td>\n",
              "      <td>0</td>\n",
              "      <td>3</td>\n",
              "      <td>Dooley, Mr. Patrick</td>\n",
              "      <td>male</td>\n",
              "      <td>32.0</td>\n",
              "      <td>0</td>\n",
              "      <td>0</td>\n",
              "      <td>370376</td>\n",
              "      <td>7.7500</td>\n",
              "      <td>NaN</td>\n",
              "      <td>Q</td>\n",
              "    </tr>\n",
              "  </tbody>\n",
              "</table>\n",
              "<p>891 rows × 12 columns</p>\n",
              "</div>"
            ],
            "text/plain": [
              "     PassengerId  Survived  Pclass  ...     Fare Cabin  Embarked\n",
              "0              1         0       3  ...   7.2500   NaN         S\n",
              "1              2         1       1  ...  71.2833   C85         C\n",
              "2              3         1       3  ...   7.9250   NaN         S\n",
              "3              4         1       1  ...  53.1000  C123         S\n",
              "4              5         0       3  ...   8.0500   NaN         S\n",
              "..           ...       ...     ...  ...      ...   ...       ...\n",
              "886          887         0       2  ...  13.0000   NaN         S\n",
              "887          888         1       1  ...  30.0000   B42         S\n",
              "888          889         0       3  ...  23.4500   NaN         S\n",
              "889          890         1       1  ...  30.0000  C148         C\n",
              "890          891         0       3  ...   7.7500   NaN         Q\n",
              "\n",
              "[891 rows x 12 columns]"
            ]
          },
          "metadata": {},
          "execution_count": 15
        }
      ]
    },
    {
      "cell_type": "code",
      "metadata": {
        "colab": {
          "base_uri": "https://localhost:8080/",
          "height": 297
        },
        "id": "Hzh44OfX3DpQ",
        "outputId": "e5f5518b-9af6-48e3-af08-fb7b2bd69be8"
      },
      "source": [
        "#para retornar as primeiras linhas do arquivo use o metodo head()\n",
        "titanic_df.head(8)"
      ],
      "execution_count": null,
      "outputs": [
        {
          "output_type": "execute_result",
          "data": {
            "text/html": [
              "<div>\n",
              "<style scoped>\n",
              "    .dataframe tbody tr th:only-of-type {\n",
              "        vertical-align: middle;\n",
              "    }\n",
              "\n",
              "    .dataframe tbody tr th {\n",
              "        vertical-align: top;\n",
              "    }\n",
              "\n",
              "    .dataframe thead th {\n",
              "        text-align: right;\n",
              "    }\n",
              "</style>\n",
              "<table border=\"1\" class=\"dataframe\">\n",
              "  <thead>\n",
              "    <tr style=\"text-align: right;\">\n",
              "      <th></th>\n",
              "      <th>PassengerId</th>\n",
              "      <th>Survived</th>\n",
              "      <th>Pclass</th>\n",
              "      <th>Name</th>\n",
              "      <th>Sex</th>\n",
              "      <th>Age</th>\n",
              "      <th>SibSp</th>\n",
              "      <th>Parch</th>\n",
              "      <th>Ticket</th>\n",
              "      <th>Fare</th>\n",
              "      <th>Cabin</th>\n",
              "      <th>Embarked</th>\n",
              "    </tr>\n",
              "  </thead>\n",
              "  <tbody>\n",
              "    <tr>\n",
              "      <th>0</th>\n",
              "      <td>1</td>\n",
              "      <td>0</td>\n",
              "      <td>3</td>\n",
              "      <td>Braund, Mr. Owen Harris</td>\n",
              "      <td>male</td>\n",
              "      <td>22.0</td>\n",
              "      <td>1</td>\n",
              "      <td>0</td>\n",
              "      <td>A/5 21171</td>\n",
              "      <td>7.2500</td>\n",
              "      <td>NaN</td>\n",
              "      <td>S</td>\n",
              "    </tr>\n",
              "    <tr>\n",
              "      <th>1</th>\n",
              "      <td>2</td>\n",
              "      <td>1</td>\n",
              "      <td>1</td>\n",
              "      <td>Cumings, Mrs. John Bradley (Florence Briggs Th...</td>\n",
              "      <td>female</td>\n",
              "      <td>38.0</td>\n",
              "      <td>1</td>\n",
              "      <td>0</td>\n",
              "      <td>PC 17599</td>\n",
              "      <td>71.2833</td>\n",
              "      <td>C85</td>\n",
              "      <td>C</td>\n",
              "    </tr>\n",
              "    <tr>\n",
              "      <th>2</th>\n",
              "      <td>3</td>\n",
              "      <td>1</td>\n",
              "      <td>3</td>\n",
              "      <td>Heikkinen, Miss. Laina</td>\n",
              "      <td>female</td>\n",
              "      <td>26.0</td>\n",
              "      <td>0</td>\n",
              "      <td>0</td>\n",
              "      <td>STON/O2. 3101282</td>\n",
              "      <td>7.9250</td>\n",
              "      <td>NaN</td>\n",
              "      <td>S</td>\n",
              "    </tr>\n",
              "    <tr>\n",
              "      <th>3</th>\n",
              "      <td>4</td>\n",
              "      <td>1</td>\n",
              "      <td>1</td>\n",
              "      <td>Futrelle, Mrs. Jacques Heath (Lily May Peel)</td>\n",
              "      <td>female</td>\n",
              "      <td>35.0</td>\n",
              "      <td>1</td>\n",
              "      <td>0</td>\n",
              "      <td>113803</td>\n",
              "      <td>53.1000</td>\n",
              "      <td>C123</td>\n",
              "      <td>S</td>\n",
              "    </tr>\n",
              "    <tr>\n",
              "      <th>4</th>\n",
              "      <td>5</td>\n",
              "      <td>0</td>\n",
              "      <td>3</td>\n",
              "      <td>Allen, Mr. William Henry</td>\n",
              "      <td>male</td>\n",
              "      <td>35.0</td>\n",
              "      <td>0</td>\n",
              "      <td>0</td>\n",
              "      <td>373450</td>\n",
              "      <td>8.0500</td>\n",
              "      <td>NaN</td>\n",
              "      <td>S</td>\n",
              "    </tr>\n",
              "    <tr>\n",
              "      <th>5</th>\n",
              "      <td>6</td>\n",
              "      <td>0</td>\n",
              "      <td>3</td>\n",
              "      <td>Moran, Mr. James</td>\n",
              "      <td>male</td>\n",
              "      <td>NaN</td>\n",
              "      <td>0</td>\n",
              "      <td>0</td>\n",
              "      <td>330877</td>\n",
              "      <td>8.4583</td>\n",
              "      <td>NaN</td>\n",
              "      <td>Q</td>\n",
              "    </tr>\n",
              "    <tr>\n",
              "      <th>6</th>\n",
              "      <td>7</td>\n",
              "      <td>0</td>\n",
              "      <td>1</td>\n",
              "      <td>McCarthy, Mr. Timothy J</td>\n",
              "      <td>male</td>\n",
              "      <td>54.0</td>\n",
              "      <td>0</td>\n",
              "      <td>0</td>\n",
              "      <td>17463</td>\n",
              "      <td>51.8625</td>\n",
              "      <td>E46</td>\n",
              "      <td>S</td>\n",
              "    </tr>\n",
              "    <tr>\n",
              "      <th>7</th>\n",
              "      <td>8</td>\n",
              "      <td>0</td>\n",
              "      <td>3</td>\n",
              "      <td>Palsson, Master. Gosta Leonard</td>\n",
              "      <td>male</td>\n",
              "      <td>2.0</td>\n",
              "      <td>3</td>\n",
              "      <td>1</td>\n",
              "      <td>349909</td>\n",
              "      <td>21.0750</td>\n",
              "      <td>NaN</td>\n",
              "      <td>S</td>\n",
              "    </tr>\n",
              "  </tbody>\n",
              "</table>\n",
              "</div>"
            ],
            "text/plain": [
              "   PassengerId  Survived  Pclass  ...     Fare Cabin  Embarked\n",
              "0            1         0       3  ...   7.2500   NaN         S\n",
              "1            2         1       1  ...  71.2833   C85         C\n",
              "2            3         1       3  ...   7.9250   NaN         S\n",
              "3            4         1       1  ...  53.1000  C123         S\n",
              "4            5         0       3  ...   8.0500   NaN         S\n",
              "5            6         0       3  ...   8.4583   NaN         Q\n",
              "6            7         0       1  ...  51.8625   E46         S\n",
              "7            8         0       3  ...  21.0750   NaN         S\n",
              "\n",
              "[8 rows x 12 columns]"
            ]
          },
          "metadata": {},
          "execution_count": 16
        }
      ]
    },
    {
      "cell_type": "code",
      "metadata": {
        "colab": {
          "base_uri": "https://localhost:8080/",
          "height": 297
        },
        "id": "4j44dYUP3J-5",
        "outputId": "afa92229-006c-4384-8c20-ee513196424f"
      },
      "source": [
        "#para retornar as ultimas linhas do arquivo use o metodo tail()\n",
        "titanic_df.tail(8)"
      ],
      "execution_count": null,
      "outputs": [
        {
          "output_type": "execute_result",
          "data": {
            "text/html": [
              "<div>\n",
              "<style scoped>\n",
              "    .dataframe tbody tr th:only-of-type {\n",
              "        vertical-align: middle;\n",
              "    }\n",
              "\n",
              "    .dataframe tbody tr th {\n",
              "        vertical-align: top;\n",
              "    }\n",
              "\n",
              "    .dataframe thead th {\n",
              "        text-align: right;\n",
              "    }\n",
              "</style>\n",
              "<table border=\"1\" class=\"dataframe\">\n",
              "  <thead>\n",
              "    <tr style=\"text-align: right;\">\n",
              "      <th></th>\n",
              "      <th>PassengerId</th>\n",
              "      <th>Survived</th>\n",
              "      <th>Pclass</th>\n",
              "      <th>Name</th>\n",
              "      <th>Sex</th>\n",
              "      <th>Age</th>\n",
              "      <th>SibSp</th>\n",
              "      <th>Parch</th>\n",
              "      <th>Ticket</th>\n",
              "      <th>Fare</th>\n",
              "      <th>Cabin</th>\n",
              "      <th>Embarked</th>\n",
              "    </tr>\n",
              "  </thead>\n",
              "  <tbody>\n",
              "    <tr>\n",
              "      <th>883</th>\n",
              "      <td>884</td>\n",
              "      <td>0</td>\n",
              "      <td>2</td>\n",
              "      <td>Banfield, Mr. Frederick James</td>\n",
              "      <td>male</td>\n",
              "      <td>28.0</td>\n",
              "      <td>0</td>\n",
              "      <td>0</td>\n",
              "      <td>C.A./SOTON 34068</td>\n",
              "      <td>10.500</td>\n",
              "      <td>NaN</td>\n",
              "      <td>S</td>\n",
              "    </tr>\n",
              "    <tr>\n",
              "      <th>884</th>\n",
              "      <td>885</td>\n",
              "      <td>0</td>\n",
              "      <td>3</td>\n",
              "      <td>Sutehall, Mr. Henry Jr</td>\n",
              "      <td>male</td>\n",
              "      <td>25.0</td>\n",
              "      <td>0</td>\n",
              "      <td>0</td>\n",
              "      <td>SOTON/OQ 392076</td>\n",
              "      <td>7.050</td>\n",
              "      <td>NaN</td>\n",
              "      <td>S</td>\n",
              "    </tr>\n",
              "    <tr>\n",
              "      <th>885</th>\n",
              "      <td>886</td>\n",
              "      <td>0</td>\n",
              "      <td>3</td>\n",
              "      <td>Rice, Mrs. William (Margaret Norton)</td>\n",
              "      <td>female</td>\n",
              "      <td>39.0</td>\n",
              "      <td>0</td>\n",
              "      <td>5</td>\n",
              "      <td>382652</td>\n",
              "      <td>29.125</td>\n",
              "      <td>NaN</td>\n",
              "      <td>Q</td>\n",
              "    </tr>\n",
              "    <tr>\n",
              "      <th>886</th>\n",
              "      <td>887</td>\n",
              "      <td>0</td>\n",
              "      <td>2</td>\n",
              "      <td>Montvila, Rev. Juozas</td>\n",
              "      <td>male</td>\n",
              "      <td>27.0</td>\n",
              "      <td>0</td>\n",
              "      <td>0</td>\n",
              "      <td>211536</td>\n",
              "      <td>13.000</td>\n",
              "      <td>NaN</td>\n",
              "      <td>S</td>\n",
              "    </tr>\n",
              "    <tr>\n",
              "      <th>887</th>\n",
              "      <td>888</td>\n",
              "      <td>1</td>\n",
              "      <td>1</td>\n",
              "      <td>Graham, Miss. Margaret Edith</td>\n",
              "      <td>female</td>\n",
              "      <td>19.0</td>\n",
              "      <td>0</td>\n",
              "      <td>0</td>\n",
              "      <td>112053</td>\n",
              "      <td>30.000</td>\n",
              "      <td>B42</td>\n",
              "      <td>S</td>\n",
              "    </tr>\n",
              "    <tr>\n",
              "      <th>888</th>\n",
              "      <td>889</td>\n",
              "      <td>0</td>\n",
              "      <td>3</td>\n",
              "      <td>Johnston, Miss. Catherine Helen \"Carrie\"</td>\n",
              "      <td>female</td>\n",
              "      <td>NaN</td>\n",
              "      <td>1</td>\n",
              "      <td>2</td>\n",
              "      <td>W./C. 6607</td>\n",
              "      <td>23.450</td>\n",
              "      <td>NaN</td>\n",
              "      <td>S</td>\n",
              "    </tr>\n",
              "    <tr>\n",
              "      <th>889</th>\n",
              "      <td>890</td>\n",
              "      <td>1</td>\n",
              "      <td>1</td>\n",
              "      <td>Behr, Mr. Karl Howell</td>\n",
              "      <td>male</td>\n",
              "      <td>26.0</td>\n",
              "      <td>0</td>\n",
              "      <td>0</td>\n",
              "      <td>111369</td>\n",
              "      <td>30.000</td>\n",
              "      <td>C148</td>\n",
              "      <td>C</td>\n",
              "    </tr>\n",
              "    <tr>\n",
              "      <th>890</th>\n",
              "      <td>891</td>\n",
              "      <td>0</td>\n",
              "      <td>3</td>\n",
              "      <td>Dooley, Mr. Patrick</td>\n",
              "      <td>male</td>\n",
              "      <td>32.0</td>\n",
              "      <td>0</td>\n",
              "      <td>0</td>\n",
              "      <td>370376</td>\n",
              "      <td>7.750</td>\n",
              "      <td>NaN</td>\n",
              "      <td>Q</td>\n",
              "    </tr>\n",
              "  </tbody>\n",
              "</table>\n",
              "</div>"
            ],
            "text/plain": [
              "     PassengerId  Survived  Pclass  ...    Fare Cabin  Embarked\n",
              "883          884         0       2  ...  10.500   NaN         S\n",
              "884          885         0       3  ...   7.050   NaN         S\n",
              "885          886         0       3  ...  29.125   NaN         Q\n",
              "886          887         0       2  ...  13.000   NaN         S\n",
              "887          888         1       1  ...  30.000   B42         S\n",
              "888          889         0       3  ...  23.450   NaN         S\n",
              "889          890         1       1  ...  30.000  C148         C\n",
              "890          891         0       3  ...   7.750   NaN         Q\n",
              "\n",
              "[8 rows x 12 columns]"
            ]
          },
          "metadata": {},
          "execution_count": 17
        }
      ]
    },
    {
      "cell_type": "code",
      "metadata": {
        "colab": {
          "base_uri": "https://localhost:8080/"
        },
        "id": "l-37xTFD3g9o",
        "outputId": "48f198f2-8ba3-4cd5-929a-c09b28f76b46"
      },
      "source": [
        "#função type ele serve para retornar o valor que contem em cada coluna \n",
        "titanic_df.dtypes"
      ],
      "execution_count": null,
      "outputs": [
        {
          "output_type": "execute_result",
          "data": {
            "text/plain": [
              "PassengerId      int64\n",
              "Survived         int64\n",
              "Pclass           int64\n",
              "Name            object\n",
              "Sex             object\n",
              "Age            float64\n",
              "SibSp            int64\n",
              "Parch            int64\n",
              "Ticket          object\n",
              "Fare           float64\n",
              "Cabin           object\n",
              "Embarked        object\n",
              "dtype: object"
            ]
          },
          "metadata": {},
          "execution_count": 18
        }
      ]
    },
    {
      "cell_type": "code",
      "metadata": {
        "id": "5zKM-BlL3muf"
      },
      "source": [
        "titanic_df.to_excel(\"titanic.xlsx\", sheet_name=\"passengers\", index=False)"
      ],
      "execution_count": null,
      "outputs": []
    },
    {
      "cell_type": "code",
      "metadata": {
        "id": "TdfCL7c74D3i"
      },
      "source": [
        "titanic_df = pd.read_excel(\"titanic.xlsx\", sheet_name=\"passengers\")"
      ],
      "execution_count": null,
      "outputs": []
    },
    {
      "cell_type": "code",
      "metadata": {
        "colab": {
          "base_uri": "https://localhost:8080/",
          "height": 419
        },
        "id": "On7RR7Q04RiC",
        "outputId": "1de171a6-5220-41d8-92cc-d896a52d7e69"
      },
      "source": [
        "titanic_df"
      ],
      "execution_count": null,
      "outputs": [
        {
          "output_type": "execute_result",
          "data": {
            "text/html": [
              "<div>\n",
              "<style scoped>\n",
              "    .dataframe tbody tr th:only-of-type {\n",
              "        vertical-align: middle;\n",
              "    }\n",
              "\n",
              "    .dataframe tbody tr th {\n",
              "        vertical-align: top;\n",
              "    }\n",
              "\n",
              "    .dataframe thead th {\n",
              "        text-align: right;\n",
              "    }\n",
              "</style>\n",
              "<table border=\"1\" class=\"dataframe\">\n",
              "  <thead>\n",
              "    <tr style=\"text-align: right;\">\n",
              "      <th></th>\n",
              "      <th>PassengerId</th>\n",
              "      <th>Survived</th>\n",
              "      <th>Pclass</th>\n",
              "      <th>Name</th>\n",
              "      <th>Sex</th>\n",
              "      <th>Age</th>\n",
              "      <th>SibSp</th>\n",
              "      <th>Parch</th>\n",
              "      <th>Ticket</th>\n",
              "      <th>Fare</th>\n",
              "      <th>Cabin</th>\n",
              "      <th>Embarked</th>\n",
              "    </tr>\n",
              "  </thead>\n",
              "  <tbody>\n",
              "    <tr>\n",
              "      <th>0</th>\n",
              "      <td>1</td>\n",
              "      <td>0</td>\n",
              "      <td>3</td>\n",
              "      <td>Braund, Mr. Owen Harris</td>\n",
              "      <td>male</td>\n",
              "      <td>22.0</td>\n",
              "      <td>1</td>\n",
              "      <td>0</td>\n",
              "      <td>A/5 21171</td>\n",
              "      <td>7.2500</td>\n",
              "      <td>NaN</td>\n",
              "      <td>S</td>\n",
              "    </tr>\n",
              "    <tr>\n",
              "      <th>1</th>\n",
              "      <td>2</td>\n",
              "      <td>1</td>\n",
              "      <td>1</td>\n",
              "      <td>Cumings, Mrs. John Bradley (Florence Briggs Th...</td>\n",
              "      <td>female</td>\n",
              "      <td>38.0</td>\n",
              "      <td>1</td>\n",
              "      <td>0</td>\n",
              "      <td>PC 17599</td>\n",
              "      <td>71.2833</td>\n",
              "      <td>C85</td>\n",
              "      <td>C</td>\n",
              "    </tr>\n",
              "    <tr>\n",
              "      <th>2</th>\n",
              "      <td>3</td>\n",
              "      <td>1</td>\n",
              "      <td>3</td>\n",
              "      <td>Heikkinen, Miss. Laina</td>\n",
              "      <td>female</td>\n",
              "      <td>26.0</td>\n",
              "      <td>0</td>\n",
              "      <td>0</td>\n",
              "      <td>STON/O2. 3101282</td>\n",
              "      <td>7.9250</td>\n",
              "      <td>NaN</td>\n",
              "      <td>S</td>\n",
              "    </tr>\n",
              "    <tr>\n",
              "      <th>3</th>\n",
              "      <td>4</td>\n",
              "      <td>1</td>\n",
              "      <td>1</td>\n",
              "      <td>Futrelle, Mrs. Jacques Heath (Lily May Peel)</td>\n",
              "      <td>female</td>\n",
              "      <td>35.0</td>\n",
              "      <td>1</td>\n",
              "      <td>0</td>\n",
              "      <td>113803</td>\n",
              "      <td>53.1000</td>\n",
              "      <td>C123</td>\n",
              "      <td>S</td>\n",
              "    </tr>\n",
              "    <tr>\n",
              "      <th>4</th>\n",
              "      <td>5</td>\n",
              "      <td>0</td>\n",
              "      <td>3</td>\n",
              "      <td>Allen, Mr. William Henry</td>\n",
              "      <td>male</td>\n",
              "      <td>35.0</td>\n",
              "      <td>0</td>\n",
              "      <td>0</td>\n",
              "      <td>373450</td>\n",
              "      <td>8.0500</td>\n",
              "      <td>NaN</td>\n",
              "      <td>S</td>\n",
              "    </tr>\n",
              "    <tr>\n",
              "      <th>...</th>\n",
              "      <td>...</td>\n",
              "      <td>...</td>\n",
              "      <td>...</td>\n",
              "      <td>...</td>\n",
              "      <td>...</td>\n",
              "      <td>...</td>\n",
              "      <td>...</td>\n",
              "      <td>...</td>\n",
              "      <td>...</td>\n",
              "      <td>...</td>\n",
              "      <td>...</td>\n",
              "      <td>...</td>\n",
              "    </tr>\n",
              "    <tr>\n",
              "      <th>886</th>\n",
              "      <td>887</td>\n",
              "      <td>0</td>\n",
              "      <td>2</td>\n",
              "      <td>Montvila, Rev. Juozas</td>\n",
              "      <td>male</td>\n",
              "      <td>27.0</td>\n",
              "      <td>0</td>\n",
              "      <td>0</td>\n",
              "      <td>211536</td>\n",
              "      <td>13.0000</td>\n",
              "      <td>NaN</td>\n",
              "      <td>S</td>\n",
              "    </tr>\n",
              "    <tr>\n",
              "      <th>887</th>\n",
              "      <td>888</td>\n",
              "      <td>1</td>\n",
              "      <td>1</td>\n",
              "      <td>Graham, Miss. Margaret Edith</td>\n",
              "      <td>female</td>\n",
              "      <td>19.0</td>\n",
              "      <td>0</td>\n",
              "      <td>0</td>\n",
              "      <td>112053</td>\n",
              "      <td>30.0000</td>\n",
              "      <td>B42</td>\n",
              "      <td>S</td>\n",
              "    </tr>\n",
              "    <tr>\n",
              "      <th>888</th>\n",
              "      <td>889</td>\n",
              "      <td>0</td>\n",
              "      <td>3</td>\n",
              "      <td>Johnston, Miss. Catherine Helen \"Carrie\"</td>\n",
              "      <td>female</td>\n",
              "      <td>NaN</td>\n",
              "      <td>1</td>\n",
              "      <td>2</td>\n",
              "      <td>W./C. 6607</td>\n",
              "      <td>23.4500</td>\n",
              "      <td>NaN</td>\n",
              "      <td>S</td>\n",
              "    </tr>\n",
              "    <tr>\n",
              "      <th>889</th>\n",
              "      <td>890</td>\n",
              "      <td>1</td>\n",
              "      <td>1</td>\n",
              "      <td>Behr, Mr. Karl Howell</td>\n",
              "      <td>male</td>\n",
              "      <td>26.0</td>\n",
              "      <td>0</td>\n",
              "      <td>0</td>\n",
              "      <td>111369</td>\n",
              "      <td>30.0000</td>\n",
              "      <td>C148</td>\n",
              "      <td>C</td>\n",
              "    </tr>\n",
              "    <tr>\n",
              "      <th>890</th>\n",
              "      <td>891</td>\n",
              "      <td>0</td>\n",
              "      <td>3</td>\n",
              "      <td>Dooley, Mr. Patrick</td>\n",
              "      <td>male</td>\n",
              "      <td>32.0</td>\n",
              "      <td>0</td>\n",
              "      <td>0</td>\n",
              "      <td>370376</td>\n",
              "      <td>7.7500</td>\n",
              "      <td>NaN</td>\n",
              "      <td>Q</td>\n",
              "    </tr>\n",
              "  </tbody>\n",
              "</table>\n",
              "<p>891 rows × 12 columns</p>\n",
              "</div>"
            ],
            "text/plain": [
              "     PassengerId  Survived  Pclass  ...     Fare Cabin  Embarked\n",
              "0              1         0       3  ...   7.2500   NaN         S\n",
              "1              2         1       1  ...  71.2833   C85         C\n",
              "2              3         1       3  ...   7.9250   NaN         S\n",
              "3              4         1       1  ...  53.1000  C123         S\n",
              "4              5         0       3  ...   8.0500   NaN         S\n",
              "..           ...       ...     ...  ...      ...   ...       ...\n",
              "886          887         0       2  ...  13.0000   NaN         S\n",
              "887          888         1       1  ...  30.0000   B42         S\n",
              "888          889         0       3  ...  23.4500   NaN         S\n",
              "889          890         1       1  ...  30.0000  C148         C\n",
              "890          891         0       3  ...   7.7500   NaN         Q\n",
              "\n",
              "[891 rows x 12 columns]"
            ]
          },
          "metadata": {},
          "execution_count": 21
        }
      ]
    },
    {
      "cell_type": "code",
      "metadata": {
        "colab": {
          "base_uri": "https://localhost:8080/"
        },
        "id": "rDKiA5ou4bev",
        "outputId": "5879c8de-d7da-4f14-8705-81cb2354f6cc"
      },
      "source": [
        "#O método info()fornece informações técnicas sobre um DataFrame, então vamos explicar a saída com mais detalhes:\n",
        "\n",
        "#É realmente um DataFrame.\n",
        "\n",
        "#Existem 891 entradas, ou seja, 891 linhas.\n",
        "\n",
        "#Cada linha possui um rótulo de linha (também conhecido como index) com valores que variam de 0 a 890.\n",
        "\n",
        "#A tabela possui 12 colunas. A maioria das colunas tem um valor para cada uma das linhas (todos os 891 valores têm non-null). Algumas colunas têm valores ausentes e menos de 891 non-nullvalores.\n",
        "\n",
        "#As colunas Name, Sex, Cabine Embarkedconsiste de dados textuais (cordas, aka object). As outras colunas são dados numéricos com alguns deles números inteiros (aka integer) e outros são números reais (aka float).\n",
        "\n",
        "#O tipo de dados (caracteres, inteiros, ...) nas diferentes colunas são resumidos listando o dtypes.\n",
        "\n",
        "#A quantidade aproximada de RAM usada para armazenar o DataFrame também é fornecida.\n",
        "titanic_df.info()"
      ],
      "execution_count": null,
      "outputs": [
        {
          "output_type": "stream",
          "text": [
            "<class 'pandas.core.frame.DataFrame'>\n",
            "RangeIndex: 891 entries, 0 to 890\n",
            "Data columns (total 12 columns):\n",
            " #   Column       Non-Null Count  Dtype  \n",
            "---  ------       --------------  -----  \n",
            " 0   PassengerId  891 non-null    int64  \n",
            " 1   Survived     891 non-null    int64  \n",
            " 2   Pclass       891 non-null    int64  \n",
            " 3   Name         891 non-null    object \n",
            " 4   Sex          891 non-null    object \n",
            " 5   Age          714 non-null    float64\n",
            " 6   SibSp        891 non-null    int64  \n",
            " 7   Parch        891 non-null    int64  \n",
            " 8   Ticket       891 non-null    object \n",
            " 9   Fare         891 non-null    float64\n",
            " 10  Cabin        204 non-null    object \n",
            " 11  Embarked     889 non-null    object \n",
            "dtypes: float64(2), int64(5), object(5)\n",
            "memory usage: 83.7+ KB\n"
          ],
          "name": "stdout"
        }
      ]
    },
    {
      "cell_type": "code",
      "metadata": {
        "id": "IHBduF0HIbox"
      },
      "source": [
        "#Selecionando colunas especificas de um DataFrame\n",
        "ages = titanic_df[\"Age\"]"
      ],
      "execution_count": 23,
      "outputs": []
    },
    {
      "cell_type": "code",
      "metadata": {
        "colab": {
          "base_uri": "https://localhost:8080/"
        },
        "id": "42-Zmn3NJLoK",
        "outputId": "ad5495e6-fcde-448f-f9b1-5642d713cdeb"
      },
      "source": [
        "ages.head(8)"
      ],
      "execution_count": 27,
      "outputs": [
        {
          "output_type": "execute_result",
          "data": {
            "text/plain": [
              "0    22.0\n",
              "1    38.0\n",
              "2    26.0\n",
              "3    35.0\n",
              "4    35.0\n",
              "5     NaN\n",
              "6    54.0\n",
              "7     2.0\n",
              "Name: Age, dtype: float64"
            ]
          },
          "metadata": {},
          "execution_count": 27
        }
      ]
    },
    {
      "cell_type": "code",
      "metadata": {
        "colab": {
          "base_uri": "https://localhost:8080/"
        },
        "id": "P8KODZBvJc7B",
        "outputId": "04364f5c-058e-4331-cb9b-2975ae45df6b"
      },
      "source": [
        "#Para selecionar uma única coluna, use colchetes []com o nome da coluna de interesse.\n",
        "\n",
        "#Cada coluna em a DataFrameé um Series. \n",
        "type(titanic_df[\"Age\"])"
      ],
      "execution_count": 28,
      "outputs": [
        {
          "output_type": "execute_result",
          "data": {
            "text/plain": [
              "pandas.core.series.Series"
            ]
          },
          "metadata": {},
          "execution_count": 28
        }
      ]
    },
    {
      "cell_type": "code",
      "metadata": {
        "colab": {
          "base_uri": "https://localhost:8080/"
        },
        "id": "EP5zLf1JJqIC",
        "outputId": "7fa0868b-8704-406e-b23b-8115ac41f7e8"
      },
      "source": [
        "#Relembrando que a função shape ele demonstra quantas linhas te no meu DataFrame\n",
        "titanic_df[\"Age\"].shape"
      ],
      "execution_count": 30,
      "outputs": [
        {
          "output_type": "execute_result",
          "data": {
            "text/plain": [
              "(891,)"
            ]
          },
          "metadata": {},
          "execution_count": 30
        }
      ]
    },
    {
      "cell_type": "code",
      "metadata": {
        "id": "cgY6E1wNJ1My"
      },
      "source": [
        "#vamos selecionar 2 colunas do meu df\n",
        "age_sex = titanic_df[[\"Age\",\"Sex\"]]"
      ],
      "execution_count": 31,
      "outputs": []
    },
    {
      "cell_type": "code",
      "metadata": {
        "colab": {
          "base_uri": "https://localhost:8080/",
          "height": 297
        },
        "id": "knX88AMKKN_i",
        "outputId": "a66cef08-186b-46e6-a904-001115ee5fd7"
      },
      "source": [
        "age_sex.head(8)"
      ],
      "execution_count": 34,
      "outputs": [
        {
          "output_type": "execute_result",
          "data": {
            "text/html": [
              "<div>\n",
              "<style scoped>\n",
              "    .dataframe tbody tr th:only-of-type {\n",
              "        vertical-align: middle;\n",
              "    }\n",
              "\n",
              "    .dataframe tbody tr th {\n",
              "        vertical-align: top;\n",
              "    }\n",
              "\n",
              "    .dataframe thead th {\n",
              "        text-align: right;\n",
              "    }\n",
              "</style>\n",
              "<table border=\"1\" class=\"dataframe\">\n",
              "  <thead>\n",
              "    <tr style=\"text-align: right;\">\n",
              "      <th></th>\n",
              "      <th>Age</th>\n",
              "      <th>Sex</th>\n",
              "    </tr>\n",
              "  </thead>\n",
              "  <tbody>\n",
              "    <tr>\n",
              "      <th>0</th>\n",
              "      <td>22.0</td>\n",
              "      <td>male</td>\n",
              "    </tr>\n",
              "    <tr>\n",
              "      <th>1</th>\n",
              "      <td>38.0</td>\n",
              "      <td>female</td>\n",
              "    </tr>\n",
              "    <tr>\n",
              "      <th>2</th>\n",
              "      <td>26.0</td>\n",
              "      <td>female</td>\n",
              "    </tr>\n",
              "    <tr>\n",
              "      <th>3</th>\n",
              "      <td>35.0</td>\n",
              "      <td>female</td>\n",
              "    </tr>\n",
              "    <tr>\n",
              "      <th>4</th>\n",
              "      <td>35.0</td>\n",
              "      <td>male</td>\n",
              "    </tr>\n",
              "    <tr>\n",
              "      <th>5</th>\n",
              "      <td>NaN</td>\n",
              "      <td>male</td>\n",
              "    </tr>\n",
              "    <tr>\n",
              "      <th>6</th>\n",
              "      <td>54.0</td>\n",
              "      <td>male</td>\n",
              "    </tr>\n",
              "    <tr>\n",
              "      <th>7</th>\n",
              "      <td>2.0</td>\n",
              "      <td>male</td>\n",
              "    </tr>\n",
              "  </tbody>\n",
              "</table>\n",
              "</div>"
            ],
            "text/plain": [
              "    Age     Sex\n",
              "0  22.0    male\n",
              "1  38.0  female\n",
              "2  26.0  female\n",
              "3  35.0  female\n",
              "4  35.0    male\n",
              "5   NaN    male\n",
              "6  54.0    male\n",
              "7   2.0    male"
            ]
          },
          "metadata": {},
          "execution_count": 34
        }
      ]
    },
    {
      "cell_type": "code",
      "metadata": {
        "colab": {
          "base_uri": "https://localhost:8080/"
        },
        "id": "G6M4jwA9Kb7z",
        "outputId": "9dc12445-dcd8-4a8c-8df6-9e7690ea3d89"
      },
      "source": [
        "#Vamos verificar os tipos de dados extraidos do DF\n",
        "type(titanic_df[[\"Age\",\"Sex\"]])"
      ],
      "execution_count": 36,
      "outputs": [
        {
          "output_type": "execute_result",
          "data": {
            "text/plain": [
              "pandas.core.frame.DataFrame"
            ]
          },
          "metadata": {},
          "execution_count": 36
        }
      ]
    },
    {
      "cell_type": "markdown",
      "metadata": {
        "id": "QbgM6iMAK_jB"
      },
      "source": [
        "<h1><font color=\"red\" >Como posso filtrar linhas específicas de um DataFrame?</font</h1>"
      ]
    },
    {
      "cell_type": "markdown",
      "metadata": {
        "id": "skli6muDYQbR"
      },
      "source": [
        "![image.png](data:image/png;base64,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)"
      ]
    },
    {
      "cell_type": "code",
      "metadata": {
        "colab": {
          "base_uri": "https://localhost:8080/",
          "height": 204
        },
        "id": "Vrth8dqDLASS",
        "outputId": "18a1e2c2-7d8f-4f97-b5d8-276163913443"
      },
      "source": [
        "#Estou interessado nos passageiros com mais de 35 anos.\n",
        "acima_35 = titanic_df[titanic_df[\"Age\"] > 35]\n",
        "acima_35.head()"
      ],
      "execution_count": 39,
      "outputs": [
        {
          "output_type": "execute_result",
          "data": {
            "text/html": [
              "<div>\n",
              "<style scoped>\n",
              "    .dataframe tbody tr th:only-of-type {\n",
              "        vertical-align: middle;\n",
              "    }\n",
              "\n",
              "    .dataframe tbody tr th {\n",
              "        vertical-align: top;\n",
              "    }\n",
              "\n",
              "    .dataframe thead th {\n",
              "        text-align: right;\n",
              "    }\n",
              "</style>\n",
              "<table border=\"1\" class=\"dataframe\">\n",
              "  <thead>\n",
              "    <tr style=\"text-align: right;\">\n",
              "      <th></th>\n",
              "      <th>PassengerId</th>\n",
              "      <th>Survived</th>\n",
              "      <th>Pclass</th>\n",
              "      <th>Name</th>\n",
              "      <th>Sex</th>\n",
              "      <th>Age</th>\n",
              "      <th>SibSp</th>\n",
              "      <th>Parch</th>\n",
              "      <th>Ticket</th>\n",
              "      <th>Fare</th>\n",
              "      <th>Cabin</th>\n",
              "      <th>Embarked</th>\n",
              "    </tr>\n",
              "  </thead>\n",
              "  <tbody>\n",
              "    <tr>\n",
              "      <th>1</th>\n",
              "      <td>2</td>\n",
              "      <td>1</td>\n",
              "      <td>1</td>\n",
              "      <td>Cumings, Mrs. John Bradley (Florence Briggs Th...</td>\n",
              "      <td>female</td>\n",
              "      <td>38.0</td>\n",
              "      <td>1</td>\n",
              "      <td>0</td>\n",
              "      <td>PC 17599</td>\n",
              "      <td>71.2833</td>\n",
              "      <td>C85</td>\n",
              "      <td>C</td>\n",
              "    </tr>\n",
              "    <tr>\n",
              "      <th>6</th>\n",
              "      <td>7</td>\n",
              "      <td>0</td>\n",
              "      <td>1</td>\n",
              "      <td>McCarthy, Mr. Timothy J</td>\n",
              "      <td>male</td>\n",
              "      <td>54.0</td>\n",
              "      <td>0</td>\n",
              "      <td>0</td>\n",
              "      <td>17463</td>\n",
              "      <td>51.8625</td>\n",
              "      <td>E46</td>\n",
              "      <td>S</td>\n",
              "    </tr>\n",
              "    <tr>\n",
              "      <th>11</th>\n",
              "      <td>12</td>\n",
              "      <td>1</td>\n",
              "      <td>1</td>\n",
              "      <td>Bonnell, Miss. Elizabeth</td>\n",
              "      <td>female</td>\n",
              "      <td>58.0</td>\n",
              "      <td>0</td>\n",
              "      <td>0</td>\n",
              "      <td>113783</td>\n",
              "      <td>26.5500</td>\n",
              "      <td>C103</td>\n",
              "      <td>S</td>\n",
              "    </tr>\n",
              "    <tr>\n",
              "      <th>13</th>\n",
              "      <td>14</td>\n",
              "      <td>0</td>\n",
              "      <td>3</td>\n",
              "      <td>Andersson, Mr. Anders Johan</td>\n",
              "      <td>male</td>\n",
              "      <td>39.0</td>\n",
              "      <td>1</td>\n",
              "      <td>5</td>\n",
              "      <td>347082</td>\n",
              "      <td>31.2750</td>\n",
              "      <td>NaN</td>\n",
              "      <td>S</td>\n",
              "    </tr>\n",
              "    <tr>\n",
              "      <th>15</th>\n",
              "      <td>16</td>\n",
              "      <td>1</td>\n",
              "      <td>2</td>\n",
              "      <td>Hewlett, Mrs. (Mary D Kingcome)</td>\n",
              "      <td>female</td>\n",
              "      <td>55.0</td>\n",
              "      <td>0</td>\n",
              "      <td>0</td>\n",
              "      <td>248706</td>\n",
              "      <td>16.0000</td>\n",
              "      <td>NaN</td>\n",
              "      <td>S</td>\n",
              "    </tr>\n",
              "  </tbody>\n",
              "</table>\n",
              "</div>"
            ],
            "text/plain": [
              "    PassengerId  Survived  Pclass  ...     Fare Cabin  Embarked\n",
              "1             2         1       1  ...  71.2833   C85         C\n",
              "6             7         0       1  ...  51.8625   E46         S\n",
              "11           12         1       1  ...  26.5500  C103         S\n",
              "13           14         0       3  ...  31.2750   NaN         S\n",
              "15           16         1       2  ...  16.0000   NaN         S\n",
              "\n",
              "[5 rows x 12 columns]"
            ]
          },
          "metadata": {},
          "execution_count": 39
        }
      ]
    },
    {
      "cell_type": "code",
      "metadata": {
        "colab": {
          "base_uri": "https://localhost:8080/"
        },
        "id": "bZ-_iWqOLeFp",
        "outputId": "667142f3-b7f2-4921-8e1b-91b3d6cb609f"
      },
      "source": [
        "#A condição dentro dos colchetes de seleção verifica para quais linhas a coluna tem um valor maior que 35:titanic[\"Age\"] > 35Age\n",
        "titanic_df[\"Age\"] > 35"
      ],
      "execution_count": 40,
      "outputs": [
        {
          "output_type": "execute_result",
          "data": {
            "text/plain": [
              "0      False\n",
              "1       True\n",
              "2      False\n",
              "3      False\n",
              "4      False\n",
              "       ...  \n",
              "886    False\n",
              "887    False\n",
              "888    False\n",
              "889    False\n",
              "890    False\n",
              "Name: Age, Length: 891, dtype: bool"
            ]
          },
          "metadata": {},
          "execution_count": 40
        }
      ]
    },
    {
      "cell_type": "markdown",
      "metadata": {
        "id": "VeWXS6j1XgSy"
      },
      "source": [
        "A saída da expressão condicional ( >, mas também ==, !=, <, <=, ... iria funcionar) é realmente um pandas Seriesde valores booleanos (quer Trueou False) com o mesmo número de linhas que o original DataFrame. Esses Seriesvalores booleanos podem ser usados ​​para filtrar o DataFrame, colocando-o entre os colchetes de seleção [ ]. Apenas as linhas para as quais o valor é True serão selecionadas.\n"
      ]
    },
    {
      "cell_type": "markdown",
      "metadata": {
        "id": "V3uZ8njQXlfB"
      },
      "source": [
        "\n",
        "Já sabemos que o Titanic original DataFrameconsiste em 891 linhas. Vamos dar uma olhada no número de linhas que satisfazem a condição, verificando o shapeatributo do resultado DataFrame above_35:"
      ]
    },
    {
      "cell_type": "code",
      "metadata": {
        "colab": {
          "base_uri": "https://localhost:8080/"
        },
        "id": "8-NAGptFL9s5",
        "outputId": "2a6e2c5f-f3f7-41c6-82f0-b74247d332a6"
      },
      "source": [
        "#vamos verificar quantas linhas contem nossa seleção sobre idades acima de 35\n",
        "acima_35.shape"
      ],
      "execution_count": 42,
      "outputs": [
        {
          "output_type": "execute_result",
          "data": {
            "text/plain": [
              "(217, 12)"
            ]
          },
          "metadata": {},
          "execution_count": 42
        }
      ]
    },
    {
      "cell_type": "code",
      "metadata": {
        "colab": {
          "base_uri": "https://localhost:8080/",
          "height": 204
        },
        "id": "tbnSV1O7Ly1p",
        "outputId": "450b6c06-af39-467f-9296-d5ad8642182f"
      },
      "source": [
        "#Estou interessado sobre os passageiros sobre as classe 2 e 3.\n",
        "class_23 = titanic_df[titanic_df[\"Pclass\"].isin([2,3])] \n",
        "class_23.head()"
      ],
      "execution_count": 44,
      "outputs": [
        {
          "output_type": "execute_result",
          "data": {
            "text/html": [
              "<div>\n",
              "<style scoped>\n",
              "    .dataframe tbody tr th:only-of-type {\n",
              "        vertical-align: middle;\n",
              "    }\n",
              "\n",
              "    .dataframe tbody tr th {\n",
              "        vertical-align: top;\n",
              "    }\n",
              "\n",
              "    .dataframe thead th {\n",
              "        text-align: right;\n",
              "    }\n",
              "</style>\n",
              "<table border=\"1\" class=\"dataframe\">\n",
              "  <thead>\n",
              "    <tr style=\"text-align: right;\">\n",
              "      <th></th>\n",
              "      <th>PassengerId</th>\n",
              "      <th>Survived</th>\n",
              "      <th>Pclass</th>\n",
              "      <th>Name</th>\n",
              "      <th>Sex</th>\n",
              "      <th>Age</th>\n",
              "      <th>SibSp</th>\n",
              "      <th>Parch</th>\n",
              "      <th>Ticket</th>\n",
              "      <th>Fare</th>\n",
              "      <th>Cabin</th>\n",
              "      <th>Embarked</th>\n",
              "    </tr>\n",
              "  </thead>\n",
              "  <tbody>\n",
              "    <tr>\n",
              "      <th>0</th>\n",
              "      <td>1</td>\n",
              "      <td>0</td>\n",
              "      <td>3</td>\n",
              "      <td>Braund, Mr. Owen Harris</td>\n",
              "      <td>male</td>\n",
              "      <td>22.0</td>\n",
              "      <td>1</td>\n",
              "      <td>0</td>\n",
              "      <td>A/5 21171</td>\n",
              "      <td>7.2500</td>\n",
              "      <td>NaN</td>\n",
              "      <td>S</td>\n",
              "    </tr>\n",
              "    <tr>\n",
              "      <th>2</th>\n",
              "      <td>3</td>\n",
              "      <td>1</td>\n",
              "      <td>3</td>\n",
              "      <td>Heikkinen, Miss. Laina</td>\n",
              "      <td>female</td>\n",
              "      <td>26.0</td>\n",
              "      <td>0</td>\n",
              "      <td>0</td>\n",
              "      <td>STON/O2. 3101282</td>\n",
              "      <td>7.9250</td>\n",
              "      <td>NaN</td>\n",
              "      <td>S</td>\n",
              "    </tr>\n",
              "    <tr>\n",
              "      <th>4</th>\n",
              "      <td>5</td>\n",
              "      <td>0</td>\n",
              "      <td>3</td>\n",
              "      <td>Allen, Mr. William Henry</td>\n",
              "      <td>male</td>\n",
              "      <td>35.0</td>\n",
              "      <td>0</td>\n",
              "      <td>0</td>\n",
              "      <td>373450</td>\n",
              "      <td>8.0500</td>\n",
              "      <td>NaN</td>\n",
              "      <td>S</td>\n",
              "    </tr>\n",
              "    <tr>\n",
              "      <th>5</th>\n",
              "      <td>6</td>\n",
              "      <td>0</td>\n",
              "      <td>3</td>\n",
              "      <td>Moran, Mr. James</td>\n",
              "      <td>male</td>\n",
              "      <td>NaN</td>\n",
              "      <td>0</td>\n",
              "      <td>0</td>\n",
              "      <td>330877</td>\n",
              "      <td>8.4583</td>\n",
              "      <td>NaN</td>\n",
              "      <td>Q</td>\n",
              "    </tr>\n",
              "    <tr>\n",
              "      <th>7</th>\n",
              "      <td>8</td>\n",
              "      <td>0</td>\n",
              "      <td>3</td>\n",
              "      <td>Palsson, Master. Gosta Leonard</td>\n",
              "      <td>male</td>\n",
              "      <td>2.0</td>\n",
              "      <td>3</td>\n",
              "      <td>1</td>\n",
              "      <td>349909</td>\n",
              "      <td>21.0750</td>\n",
              "      <td>NaN</td>\n",
              "      <td>S</td>\n",
              "    </tr>\n",
              "  </tbody>\n",
              "</table>\n",
              "</div>"
            ],
            "text/plain": [
              "   PassengerId  Survived  Pclass  ...     Fare Cabin  Embarked\n",
              "0            1         0       3  ...   7.2500   NaN         S\n",
              "2            3         1       3  ...   7.9250   NaN         S\n",
              "4            5         0       3  ...   8.0500   NaN         S\n",
              "5            6         0       3  ...   8.4583   NaN         Q\n",
              "7            8         0       3  ...  21.0750   NaN         S\n",
              "\n",
              "[5 rows x 12 columns]"
            ]
          },
          "metadata": {},
          "execution_count": 44
        }
      ]
    },
    {
      "cell_type": "markdown",
      "metadata": {
        "id": "B3C2QYFqNosB"
      },
      "source": [
        "**O acima é equivalente a filtrar por linhas para as quais a classe é 2 ou 3 e combinar as duas instruções com um |operador (ou):**"
      ]
    },
    {
      "cell_type": "code",
      "metadata": {
        "id": "1LMQ4nBANoZh"
      },
      "source": [
        "class_23 = titanic_df[(titanic_df[\"Pclass\"] == 2) | (titanic_df[\"Pclass\"] == 3 )]"
      ],
      "execution_count": 45,
      "outputs": []
    },
    {
      "cell_type": "code",
      "metadata": {
        "colab": {
          "base_uri": "https://localhost:8080/",
          "height": 204
        },
        "id": "3I67MT8cNoC5",
        "outputId": "5b058b13-e170-416a-c9f8-db38a99d68a3"
      },
      "source": [
        "class_23.head()"
      ],
      "execution_count": 46,
      "outputs": [
        {
          "output_type": "execute_result",
          "data": {
            "text/html": [
              "<div>\n",
              "<style scoped>\n",
              "    .dataframe tbody tr th:only-of-type {\n",
              "        vertical-align: middle;\n",
              "    }\n",
              "\n",
              "    .dataframe tbody tr th {\n",
              "        vertical-align: top;\n",
              "    }\n",
              "\n",
              "    .dataframe thead th {\n",
              "        text-align: right;\n",
              "    }\n",
              "</style>\n",
              "<table border=\"1\" class=\"dataframe\">\n",
              "  <thead>\n",
              "    <tr style=\"text-align: right;\">\n",
              "      <th></th>\n",
              "      <th>PassengerId</th>\n",
              "      <th>Survived</th>\n",
              "      <th>Pclass</th>\n",
              "      <th>Name</th>\n",
              "      <th>Sex</th>\n",
              "      <th>Age</th>\n",
              "      <th>SibSp</th>\n",
              "      <th>Parch</th>\n",
              "      <th>Ticket</th>\n",
              "      <th>Fare</th>\n",
              "      <th>Cabin</th>\n",
              "      <th>Embarked</th>\n",
              "    </tr>\n",
              "  </thead>\n",
              "  <tbody>\n",
              "    <tr>\n",
              "      <th>0</th>\n",
              "      <td>1</td>\n",
              "      <td>0</td>\n",
              "      <td>3</td>\n",
              "      <td>Braund, Mr. Owen Harris</td>\n",
              "      <td>male</td>\n",
              "      <td>22.0</td>\n",
              "      <td>1</td>\n",
              "      <td>0</td>\n",
              "      <td>A/5 21171</td>\n",
              "      <td>7.2500</td>\n",
              "      <td>NaN</td>\n",
              "      <td>S</td>\n",
              "    </tr>\n",
              "    <tr>\n",
              "      <th>2</th>\n",
              "      <td>3</td>\n",
              "      <td>1</td>\n",
              "      <td>3</td>\n",
              "      <td>Heikkinen, Miss. Laina</td>\n",
              "      <td>female</td>\n",
              "      <td>26.0</td>\n",
              "      <td>0</td>\n",
              "      <td>0</td>\n",
              "      <td>STON/O2. 3101282</td>\n",
              "      <td>7.9250</td>\n",
              "      <td>NaN</td>\n",
              "      <td>S</td>\n",
              "    </tr>\n",
              "    <tr>\n",
              "      <th>4</th>\n",
              "      <td>5</td>\n",
              "      <td>0</td>\n",
              "      <td>3</td>\n",
              "      <td>Allen, Mr. William Henry</td>\n",
              "      <td>male</td>\n",
              "      <td>35.0</td>\n",
              "      <td>0</td>\n",
              "      <td>0</td>\n",
              "      <td>373450</td>\n",
              "      <td>8.0500</td>\n",
              "      <td>NaN</td>\n",
              "      <td>S</td>\n",
              "    </tr>\n",
              "    <tr>\n",
              "      <th>5</th>\n",
              "      <td>6</td>\n",
              "      <td>0</td>\n",
              "      <td>3</td>\n",
              "      <td>Moran, Mr. James</td>\n",
              "      <td>male</td>\n",
              "      <td>NaN</td>\n",
              "      <td>0</td>\n",
              "      <td>0</td>\n",
              "      <td>330877</td>\n",
              "      <td>8.4583</td>\n",
              "      <td>NaN</td>\n",
              "      <td>Q</td>\n",
              "    </tr>\n",
              "    <tr>\n",
              "      <th>7</th>\n",
              "      <td>8</td>\n",
              "      <td>0</td>\n",
              "      <td>3</td>\n",
              "      <td>Palsson, Master. Gosta Leonard</td>\n",
              "      <td>male</td>\n",
              "      <td>2.0</td>\n",
              "      <td>3</td>\n",
              "      <td>1</td>\n",
              "      <td>349909</td>\n",
              "      <td>21.0750</td>\n",
              "      <td>NaN</td>\n",
              "      <td>S</td>\n",
              "    </tr>\n",
              "  </tbody>\n",
              "</table>\n",
              "</div>"
            ],
            "text/plain": [
              "   PassengerId  Survived  Pclass  ...     Fare Cabin  Embarked\n",
              "0            1         0       3  ...   7.2500   NaN         S\n",
              "2            3         1       3  ...   7.9250   NaN         S\n",
              "4            5         0       3  ...   8.0500   NaN         S\n",
              "5            6         0       3  ...   8.4583   NaN         Q\n",
              "7            8         0       3  ...  21.0750   NaN         S\n",
              "\n",
              "[5 rows x 12 columns]"
            ]
          },
          "metadata": {},
          "execution_count": 46
        }
      ]
    },
    {
      "cell_type": "markdown",
      "metadata": {
        "id": "WWDYL6FaORER"
      },
      "source": [
        "<h1>Quero trabalhar com dados de passageiros cuja idade é conhecida.<h1>"
      ]
    },
    {
      "cell_type": "code",
      "metadata": {
        "colab": {
          "base_uri": "https://localhost:8080/",
          "height": 204
        },
        "id": "Aoj5pVE6OYDq",
        "outputId": "4701edc2-dca2-4067-d114-940e20530222"
      },
      "source": [
        "#A notna()função condicional retorna um Truepara cada linha, os valores não são um Nullvalor. Como tal, isso pode ser combinado com os colchetes de seleção []para filtrar a tabela de dados.\n",
        "idade_sem_null = titanic_df[titanic_df[\"Age\"].notna()]\n",
        "idade_sem_null.head()"
      ],
      "execution_count": 47,
      "outputs": [
        {
          "output_type": "execute_result",
          "data": {
            "text/html": [
              "<div>\n",
              "<style scoped>\n",
              "    .dataframe tbody tr th:only-of-type {\n",
              "        vertical-align: middle;\n",
              "    }\n",
              "\n",
              "    .dataframe tbody tr th {\n",
              "        vertical-align: top;\n",
              "    }\n",
              "\n",
              "    .dataframe thead th {\n",
              "        text-align: right;\n",
              "    }\n",
              "</style>\n",
              "<table border=\"1\" class=\"dataframe\">\n",
              "  <thead>\n",
              "    <tr style=\"text-align: right;\">\n",
              "      <th></th>\n",
              "      <th>PassengerId</th>\n",
              "      <th>Survived</th>\n",
              "      <th>Pclass</th>\n",
              "      <th>Name</th>\n",
              "      <th>Sex</th>\n",
              "      <th>Age</th>\n",
              "      <th>SibSp</th>\n",
              "      <th>Parch</th>\n",
              "      <th>Ticket</th>\n",
              "      <th>Fare</th>\n",
              "      <th>Cabin</th>\n",
              "      <th>Embarked</th>\n",
              "    </tr>\n",
              "  </thead>\n",
              "  <tbody>\n",
              "    <tr>\n",
              "      <th>0</th>\n",
              "      <td>1</td>\n",
              "      <td>0</td>\n",
              "      <td>3</td>\n",
              "      <td>Braund, Mr. Owen Harris</td>\n",
              "      <td>male</td>\n",
              "      <td>22.0</td>\n",
              "      <td>1</td>\n",
              "      <td>0</td>\n",
              "      <td>A/5 21171</td>\n",
              "      <td>7.2500</td>\n",
              "      <td>NaN</td>\n",
              "      <td>S</td>\n",
              "    </tr>\n",
              "    <tr>\n",
              "      <th>1</th>\n",
              "      <td>2</td>\n",
              "      <td>1</td>\n",
              "      <td>1</td>\n",
              "      <td>Cumings, Mrs. John Bradley (Florence Briggs Th...</td>\n",
              "      <td>female</td>\n",
              "      <td>38.0</td>\n",
              "      <td>1</td>\n",
              "      <td>0</td>\n",
              "      <td>PC 17599</td>\n",
              "      <td>71.2833</td>\n",
              "      <td>C85</td>\n",
              "      <td>C</td>\n",
              "    </tr>\n",
              "    <tr>\n",
              "      <th>2</th>\n",
              "      <td>3</td>\n",
              "      <td>1</td>\n",
              "      <td>3</td>\n",
              "      <td>Heikkinen, Miss. Laina</td>\n",
              "      <td>female</td>\n",
              "      <td>26.0</td>\n",
              "      <td>0</td>\n",
              "      <td>0</td>\n",
              "      <td>STON/O2. 3101282</td>\n",
              "      <td>7.9250</td>\n",
              "      <td>NaN</td>\n",
              "      <td>S</td>\n",
              "    </tr>\n",
              "    <tr>\n",
              "      <th>3</th>\n",
              "      <td>4</td>\n",
              "      <td>1</td>\n",
              "      <td>1</td>\n",
              "      <td>Futrelle, Mrs. Jacques Heath (Lily May Peel)</td>\n",
              "      <td>female</td>\n",
              "      <td>35.0</td>\n",
              "      <td>1</td>\n",
              "      <td>0</td>\n",
              "      <td>113803</td>\n",
              "      <td>53.1000</td>\n",
              "      <td>C123</td>\n",
              "      <td>S</td>\n",
              "    </tr>\n",
              "    <tr>\n",
              "      <th>4</th>\n",
              "      <td>5</td>\n",
              "      <td>0</td>\n",
              "      <td>3</td>\n",
              "      <td>Allen, Mr. William Henry</td>\n",
              "      <td>male</td>\n",
              "      <td>35.0</td>\n",
              "      <td>0</td>\n",
              "      <td>0</td>\n",
              "      <td>373450</td>\n",
              "      <td>8.0500</td>\n",
              "      <td>NaN</td>\n",
              "      <td>S</td>\n",
              "    </tr>\n",
              "  </tbody>\n",
              "</table>\n",
              "</div>"
            ],
            "text/plain": [
              "   PassengerId  Survived  Pclass  ...     Fare Cabin  Embarked\n",
              "0            1         0       3  ...   7.2500   NaN         S\n",
              "1            2         1       1  ...  71.2833   C85         C\n",
              "2            3         1       3  ...   7.9250   NaN         S\n",
              "3            4         1       1  ...  53.1000  C123         S\n",
              "4            5         0       3  ...   8.0500   NaN         S\n",
              "\n",
              "[5 rows x 12 columns]"
            ]
          },
          "metadata": {},
          "execution_count": 47
        }
      ]
    },
    {
      "cell_type": "code",
      "metadata": {
        "colab": {
          "base_uri": "https://localhost:8080/"
        },
        "id": "Rf_eaW56O8EB",
        "outputId": "d83c87cf-1575-4288-8bc0-553995851def"
      },
      "source": [
        "#Você pode se perguntar o que realmente mudou, já que as 5 primeiras linhas ainda são os mesmos valores. Uma maneira de verificar é verificar se a forma mudou:\n",
        "idade_sem_null.shape"
      ],
      "execution_count": 48,
      "outputs": [
        {
          "output_type": "execute_result",
          "data": {
            "text/plain": [
              "(714, 12)"
            ]
          },
          "metadata": {},
          "execution_count": 48
        }
      ]
    },
    {
      "cell_type": "markdown",
      "metadata": {
        "id": "rHjMGUHfPGtg"
      },
      "source": [
        "<h1><font color=\"red\">Como seleciono linhas e colunas específicas de um DataFrame?</font><h1>"
      ]
    },
    {
      "cell_type": "markdown",
      "metadata": {
        "id": "mD2wViGnPvJh"
      },
      "source": [
        "![image.png](data:image/png;base64,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)"
      ]
    },
    {
      "cell_type": "code",
      "metadata": {
        "colab": {
          "base_uri": "https://localhost:8080/"
        },
        "id": "8t1YGy_bPzAy",
        "outputId": "d70e0ee1-1e27-4842-8033-2e64d18e7123"
      },
      "source": [
        "#Estou interessado nos nomes dos passageiros com mais de 35 anos.\n",
        "nomes_adultos = titanic_df.loc[titanic_df[\"Age\"] > 35,\"Name\"]\n",
        "nomes_adultos.head()"
      ],
      "execution_count": 49,
      "outputs": [
        {
          "output_type": "execute_result",
          "data": {
            "text/plain": [
              "1     Cumings, Mrs. John Bradley (Florence Briggs Th...\n",
              "6                               McCarthy, Mr. Timothy J\n",
              "11                             Bonnell, Miss. Elizabeth\n",
              "13                          Andersson, Mr. Anders Johan\n",
              "15                     Hewlett, Mrs. (Mary D Kingcome) \n",
              "Name: Name, dtype: object"
            ]
          },
          "metadata": {},
          "execution_count": 49
        }
      ]
    },
    {
      "cell_type": "markdown",
      "metadata": {
        "id": "ibLf6iRAQSqB"
      },
      "source": [
        "Neste caso, um subconjunto de linhas e colunas é feito de uma vez e apenas usar os colchetes de seleção [ ]não é mais suficiente. Os operadores loc/ ilocsão necessários na frente dos colchetes de seleção [ ]. Ao usar loc/ iloc, a parte antes da vírgula são as linhas que você deseja e a parte depois da vírgula são as colunas que você deseja selecionar.\n",
        "\n",
        "Ao usar os nomes das colunas, rótulos de linha ou uma expressão de condição, use o locoperador na frente dos colchetes de seleção []. Para a parte antes e depois da vírgula, você pode usar um único rótulo, uma lista de rótulos, uma fatia de rótulos, uma expressão condicional ou dois pontos. Usar dois pontos especifica que você deseja selecionar todas as linhas ou colunas."
      ]
    },
    {
      "cell_type": "markdown",
      "metadata": {
        "id": "96vRLogQZTPh"
      },
      "source": [
        "**Estou interessado nas linhas 10 a 25 e nas colunas 3 a 5 .**"
      ]
    },
    {
      "cell_type": "code",
      "metadata": {
        "colab": {
          "base_uri": "https://localhost:8080/",
          "height": 545
        },
        "id": "eUj47lkFQTfp",
        "outputId": "6a041670-c045-4068-a98c-586d4716adbd"
      },
      "source": [
        "#Função iloc ele pega as linhas e colunas que voce deseja obter \n",
        "titanic_df.iloc[9:25,2:5]"
      ],
      "execution_count": 51,
      "outputs": [
        {
          "output_type": "execute_result",
          "data": {
            "text/html": [
              "<div>\n",
              "<style scoped>\n",
              "    .dataframe tbody tr th:only-of-type {\n",
              "        vertical-align: middle;\n",
              "    }\n",
              "\n",
              "    .dataframe tbody tr th {\n",
              "        vertical-align: top;\n",
              "    }\n",
              "\n",
              "    .dataframe thead th {\n",
              "        text-align: right;\n",
              "    }\n",
              "</style>\n",
              "<table border=\"1\" class=\"dataframe\">\n",
              "  <thead>\n",
              "    <tr style=\"text-align: right;\">\n",
              "      <th></th>\n",
              "      <th>Pclass</th>\n",
              "      <th>Name</th>\n",
              "      <th>Sex</th>\n",
              "    </tr>\n",
              "  </thead>\n",
              "  <tbody>\n",
              "    <tr>\n",
              "      <th>9</th>\n",
              "      <td>2</td>\n",
              "      <td>Nasser, Mrs. Nicholas (Adele Achem)</td>\n",
              "      <td>female</td>\n",
              "    </tr>\n",
              "    <tr>\n",
              "      <th>10</th>\n",
              "      <td>3</td>\n",
              "      <td>Sandstrom, Miss. Marguerite Rut</td>\n",
              "      <td>female</td>\n",
              "    </tr>\n",
              "    <tr>\n",
              "      <th>11</th>\n",
              "      <td>1</td>\n",
              "      <td>Bonnell, Miss. Elizabeth</td>\n",
              "      <td>female</td>\n",
              "    </tr>\n",
              "    <tr>\n",
              "      <th>12</th>\n",
              "      <td>3</td>\n",
              "      <td>Saundercock, Mr. William Henry</td>\n",
              "      <td>male</td>\n",
              "    </tr>\n",
              "    <tr>\n",
              "      <th>13</th>\n",
              "      <td>3</td>\n",
              "      <td>Andersson, Mr. Anders Johan</td>\n",
              "      <td>male</td>\n",
              "    </tr>\n",
              "    <tr>\n",
              "      <th>14</th>\n",
              "      <td>3</td>\n",
              "      <td>Vestrom, Miss. Hulda Amanda Adolfina</td>\n",
              "      <td>female</td>\n",
              "    </tr>\n",
              "    <tr>\n",
              "      <th>15</th>\n",
              "      <td>2</td>\n",
              "      <td>Hewlett, Mrs. (Mary D Kingcome)</td>\n",
              "      <td>female</td>\n",
              "    </tr>\n",
              "    <tr>\n",
              "      <th>16</th>\n",
              "      <td>3</td>\n",
              "      <td>Rice, Master. Eugene</td>\n",
              "      <td>male</td>\n",
              "    </tr>\n",
              "    <tr>\n",
              "      <th>17</th>\n",
              "      <td>2</td>\n",
              "      <td>Williams, Mr. Charles Eugene</td>\n",
              "      <td>male</td>\n",
              "    </tr>\n",
              "    <tr>\n",
              "      <th>18</th>\n",
              "      <td>3</td>\n",
              "      <td>Vander Planke, Mrs. Julius (Emelia Maria Vande...</td>\n",
              "      <td>female</td>\n",
              "    </tr>\n",
              "    <tr>\n",
              "      <th>19</th>\n",
              "      <td>3</td>\n",
              "      <td>Masselmani, Mrs. Fatima</td>\n",
              "      <td>female</td>\n",
              "    </tr>\n",
              "    <tr>\n",
              "      <th>20</th>\n",
              "      <td>2</td>\n",
              "      <td>Fynney, Mr. Joseph J</td>\n",
              "      <td>male</td>\n",
              "    </tr>\n",
              "    <tr>\n",
              "      <th>21</th>\n",
              "      <td>2</td>\n",
              "      <td>Beesley, Mr. Lawrence</td>\n",
              "      <td>male</td>\n",
              "    </tr>\n",
              "    <tr>\n",
              "      <th>22</th>\n",
              "      <td>3</td>\n",
              "      <td>McGowan, Miss. Anna \"Annie\"</td>\n",
              "      <td>female</td>\n",
              "    </tr>\n",
              "    <tr>\n",
              "      <th>23</th>\n",
              "      <td>1</td>\n",
              "      <td>Sloper, Mr. William Thompson</td>\n",
              "      <td>male</td>\n",
              "    </tr>\n",
              "    <tr>\n",
              "      <th>24</th>\n",
              "      <td>3</td>\n",
              "      <td>Palsson, Miss. Torborg Danira</td>\n",
              "      <td>female</td>\n",
              "    </tr>\n",
              "  </tbody>\n",
              "</table>\n",
              "</div>"
            ],
            "text/plain": [
              "    Pclass                                               Name     Sex\n",
              "9        2                Nasser, Mrs. Nicholas (Adele Achem)  female\n",
              "10       3                    Sandstrom, Miss. Marguerite Rut  female\n",
              "11       1                           Bonnell, Miss. Elizabeth  female\n",
              "12       3                     Saundercock, Mr. William Henry    male\n",
              "13       3                        Andersson, Mr. Anders Johan    male\n",
              "14       3               Vestrom, Miss. Hulda Amanda Adolfina  female\n",
              "15       2                   Hewlett, Mrs. (Mary D Kingcome)   female\n",
              "16       3                               Rice, Master. Eugene    male\n",
              "17       2                       Williams, Mr. Charles Eugene    male\n",
              "18       3  Vander Planke, Mrs. Julius (Emelia Maria Vande...  female\n",
              "19       3                            Masselmani, Mrs. Fatima  female\n",
              "20       2                               Fynney, Mr. Joseph J    male\n",
              "21       2                              Beesley, Mr. Lawrence    male\n",
              "22       3                        McGowan, Miss. Anna \"Annie\"  female\n",
              "23       1                       Sloper, Mr. William Thompson    male\n",
              "24       3                      Palsson, Miss. Torborg Danira  female"
            ]
          },
          "metadata": {},
          "execution_count": 51
        }
      ]
    },
    {
      "cell_type": "markdown",
      "metadata": {
        "id": "IA_eE6goafGC"
      },
      "source": [
        "Novamente, um subconjunto de linhas e colunas é feito de uma vez e apenas usar colchetes de seleção []não é mais suficiente. Quando estiver especificamente interessado em certas linhas e / ou colunas com base em sua posição na tabela, use o ilocoperador na frente dos colchetes de seleção [ ]."
      ]
    },
    {
      "cell_type": "code",
      "metadata": {
        "colab": {
          "base_uri": "https://localhost:8080/",
          "height": 204
        },
        "id": "EF0iD69caiWr",
        "outputId": "a06a6f5e-2d05-4414-a649-670b7d0c0e53"
      },
      "source": [
        "#Ao selecionar linhas e / ou colunas específicas com locou iloc, novos valores podem ser atribuídos aos dados selecionados. Por exemplo, para atribuir o nome anonymousaos 3 primeiros elementos da terceira coluna:\n",
        "titanic_df.iloc[0:3,3] = \"anonymous\"\n",
        "titanic_df.head()"
      ],
      "execution_count": 52,
      "outputs": [
        {
          "output_type": "execute_result",
          "data": {
            "text/html": [
              "<div>\n",
              "<style scoped>\n",
              "    .dataframe tbody tr th:only-of-type {\n",
              "        vertical-align: middle;\n",
              "    }\n",
              "\n",
              "    .dataframe tbody tr th {\n",
              "        vertical-align: top;\n",
              "    }\n",
              "\n",
              "    .dataframe thead th {\n",
              "        text-align: right;\n",
              "    }\n",
              "</style>\n",
              "<table border=\"1\" class=\"dataframe\">\n",
              "  <thead>\n",
              "    <tr style=\"text-align: right;\">\n",
              "      <th></th>\n",
              "      <th>PassengerId</th>\n",
              "      <th>Survived</th>\n",
              "      <th>Pclass</th>\n",
              "      <th>Name</th>\n",
              "      <th>Sex</th>\n",
              "      <th>Age</th>\n",
              "      <th>SibSp</th>\n",
              "      <th>Parch</th>\n",
              "      <th>Ticket</th>\n",
              "      <th>Fare</th>\n",
              "      <th>Cabin</th>\n",
              "      <th>Embarked</th>\n",
              "    </tr>\n",
              "  </thead>\n",
              "  <tbody>\n",
              "    <tr>\n",
              "      <th>0</th>\n",
              "      <td>1</td>\n",
              "      <td>0</td>\n",
              "      <td>3</td>\n",
              "      <td>anonymous</td>\n",
              "      <td>male</td>\n",
              "      <td>22.0</td>\n",
              "      <td>1</td>\n",
              "      <td>0</td>\n",
              "      <td>A/5 21171</td>\n",
              "      <td>7.2500</td>\n",
              "      <td>NaN</td>\n",
              "      <td>S</td>\n",
              "    </tr>\n",
              "    <tr>\n",
              "      <th>1</th>\n",
              "      <td>2</td>\n",
              "      <td>1</td>\n",
              "      <td>1</td>\n",
              "      <td>anonymous</td>\n",
              "      <td>female</td>\n",
              "      <td>38.0</td>\n",
              "      <td>1</td>\n",
              "      <td>0</td>\n",
              "      <td>PC 17599</td>\n",
              "      <td>71.2833</td>\n",
              "      <td>C85</td>\n",
              "      <td>C</td>\n",
              "    </tr>\n",
              "    <tr>\n",
              "      <th>2</th>\n",
              "      <td>3</td>\n",
              "      <td>1</td>\n",
              "      <td>3</td>\n",
              "      <td>anonymous</td>\n",
              "      <td>female</td>\n",
              "      <td>26.0</td>\n",
              "      <td>0</td>\n",
              "      <td>0</td>\n",
              "      <td>STON/O2. 3101282</td>\n",
              "      <td>7.9250</td>\n",
              "      <td>NaN</td>\n",
              "      <td>S</td>\n",
              "    </tr>\n",
              "    <tr>\n",
              "      <th>3</th>\n",
              "      <td>4</td>\n",
              "      <td>1</td>\n",
              "      <td>1</td>\n",
              "      <td>Futrelle, Mrs. Jacques Heath (Lily May Peel)</td>\n",
              "      <td>female</td>\n",
              "      <td>35.0</td>\n",
              "      <td>1</td>\n",
              "      <td>0</td>\n",
              "      <td>113803</td>\n",
              "      <td>53.1000</td>\n",
              "      <td>C123</td>\n",
              "      <td>S</td>\n",
              "    </tr>\n",
              "    <tr>\n",
              "      <th>4</th>\n",
              "      <td>5</td>\n",
              "      <td>0</td>\n",
              "      <td>3</td>\n",
              "      <td>Allen, Mr. William Henry</td>\n",
              "      <td>male</td>\n",
              "      <td>35.0</td>\n",
              "      <td>0</td>\n",
              "      <td>0</td>\n",
              "      <td>373450</td>\n",
              "      <td>8.0500</td>\n",
              "      <td>NaN</td>\n",
              "      <td>S</td>\n",
              "    </tr>\n",
              "  </tbody>\n",
              "</table>\n",
              "</div>"
            ],
            "text/plain": [
              "   PassengerId  Survived  Pclass  ...     Fare Cabin  Embarked\n",
              "0            1         0       3  ...   7.2500   NaN         S\n",
              "1            2         1       1  ...  71.2833   C85         C\n",
              "2            3         1       3  ...   7.9250   NaN         S\n",
              "3            4         1       1  ...  53.1000  C123         S\n",
              "4            5         0       3  ...   8.0500   NaN         S\n",
              "\n",
              "[5 rows x 12 columns]"
            ]
          },
          "metadata": {},
          "execution_count": 52
        }
      ]
    },
    {
      "cell_type": "code",
      "metadata": {
        "colab": {
          "base_uri": "https://localhost:8080/",
          "height": 419
        },
        "id": "HG_M3fk4amM5",
        "outputId": "2f6312ed-8b2d-4f36-9e1e-20dbc87e1dfc"
      },
      "source": [
        "titanic_df"
      ],
      "execution_count": 53,
      "outputs": [
        {
          "output_type": "execute_result",
          "data": {
            "text/html": [
              "<div>\n",
              "<style scoped>\n",
              "    .dataframe tbody tr th:only-of-type {\n",
              "        vertical-align: middle;\n",
              "    }\n",
              "\n",
              "    .dataframe tbody tr th {\n",
              "        vertical-align: top;\n",
              "    }\n",
              "\n",
              "    .dataframe thead th {\n",
              "        text-align: right;\n",
              "    }\n",
              "</style>\n",
              "<table border=\"1\" class=\"dataframe\">\n",
              "  <thead>\n",
              "    <tr style=\"text-align: right;\">\n",
              "      <th></th>\n",
              "      <th>PassengerId</th>\n",
              "      <th>Survived</th>\n",
              "      <th>Pclass</th>\n",
              "      <th>Name</th>\n",
              "      <th>Sex</th>\n",
              "      <th>Age</th>\n",
              "      <th>SibSp</th>\n",
              "      <th>Parch</th>\n",
              "      <th>Ticket</th>\n",
              "      <th>Fare</th>\n",
              "      <th>Cabin</th>\n",
              "      <th>Embarked</th>\n",
              "    </tr>\n",
              "  </thead>\n",
              "  <tbody>\n",
              "    <tr>\n",
              "      <th>0</th>\n",
              "      <td>1</td>\n",
              "      <td>0</td>\n",
              "      <td>3</td>\n",
              "      <td>anonymous</td>\n",
              "      <td>male</td>\n",
              "      <td>22.0</td>\n",
              "      <td>1</td>\n",
              "      <td>0</td>\n",
              "      <td>A/5 21171</td>\n",
              "      <td>7.2500</td>\n",
              "      <td>NaN</td>\n",
              "      <td>S</td>\n",
              "    </tr>\n",
              "    <tr>\n",
              "      <th>1</th>\n",
              "      <td>2</td>\n",
              "      <td>1</td>\n",
              "      <td>1</td>\n",
              "      <td>anonymous</td>\n",
              "      <td>female</td>\n",
              "      <td>38.0</td>\n",
              "      <td>1</td>\n",
              "      <td>0</td>\n",
              "      <td>PC 17599</td>\n",
              "      <td>71.2833</td>\n",
              "      <td>C85</td>\n",
              "      <td>C</td>\n",
              "    </tr>\n",
              "    <tr>\n",
              "      <th>2</th>\n",
              "      <td>3</td>\n",
              "      <td>1</td>\n",
              "      <td>3</td>\n",
              "      <td>anonymous</td>\n",
              "      <td>female</td>\n",
              "      <td>26.0</td>\n",
              "      <td>0</td>\n",
              "      <td>0</td>\n",
              "      <td>STON/O2. 3101282</td>\n",
              "      <td>7.9250</td>\n",
              "      <td>NaN</td>\n",
              "      <td>S</td>\n",
              "    </tr>\n",
              "    <tr>\n",
              "      <th>3</th>\n",
              "      <td>4</td>\n",
              "      <td>1</td>\n",
              "      <td>1</td>\n",
              "      <td>Futrelle, Mrs. Jacques Heath (Lily May Peel)</td>\n",
              "      <td>female</td>\n",
              "      <td>35.0</td>\n",
              "      <td>1</td>\n",
              "      <td>0</td>\n",
              "      <td>113803</td>\n",
              "      <td>53.1000</td>\n",
              "      <td>C123</td>\n",
              "      <td>S</td>\n",
              "    </tr>\n",
              "    <tr>\n",
              "      <th>4</th>\n",
              "      <td>5</td>\n",
              "      <td>0</td>\n",
              "      <td>3</td>\n",
              "      <td>Allen, Mr. William Henry</td>\n",
              "      <td>male</td>\n",
              "      <td>35.0</td>\n",
              "      <td>0</td>\n",
              "      <td>0</td>\n",
              "      <td>373450</td>\n",
              "      <td>8.0500</td>\n",
              "      <td>NaN</td>\n",
              "      <td>S</td>\n",
              "    </tr>\n",
              "    <tr>\n",
              "      <th>...</th>\n",
              "      <td>...</td>\n",
              "      <td>...</td>\n",
              "      <td>...</td>\n",
              "      <td>...</td>\n",
              "      <td>...</td>\n",
              "      <td>...</td>\n",
              "      <td>...</td>\n",
              "      <td>...</td>\n",
              "      <td>...</td>\n",
              "      <td>...</td>\n",
              "      <td>...</td>\n",
              "      <td>...</td>\n",
              "    </tr>\n",
              "    <tr>\n",
              "      <th>886</th>\n",
              "      <td>887</td>\n",
              "      <td>0</td>\n",
              "      <td>2</td>\n",
              "      <td>Montvila, Rev. Juozas</td>\n",
              "      <td>male</td>\n",
              "      <td>27.0</td>\n",
              "      <td>0</td>\n",
              "      <td>0</td>\n",
              "      <td>211536</td>\n",
              "      <td>13.0000</td>\n",
              "      <td>NaN</td>\n",
              "      <td>S</td>\n",
              "    </tr>\n",
              "    <tr>\n",
              "      <th>887</th>\n",
              "      <td>888</td>\n",
              "      <td>1</td>\n",
              "      <td>1</td>\n",
              "      <td>Graham, Miss. Margaret Edith</td>\n",
              "      <td>female</td>\n",
              "      <td>19.0</td>\n",
              "      <td>0</td>\n",
              "      <td>0</td>\n",
              "      <td>112053</td>\n",
              "      <td>30.0000</td>\n",
              "      <td>B42</td>\n",
              "      <td>S</td>\n",
              "    </tr>\n",
              "    <tr>\n",
              "      <th>888</th>\n",
              "      <td>889</td>\n",
              "      <td>0</td>\n",
              "      <td>3</td>\n",
              "      <td>Johnston, Miss. Catherine Helen \"Carrie\"</td>\n",
              "      <td>female</td>\n",
              "      <td>NaN</td>\n",
              "      <td>1</td>\n",
              "      <td>2</td>\n",
              "      <td>W./C. 6607</td>\n",
              "      <td>23.4500</td>\n",
              "      <td>NaN</td>\n",
              "      <td>S</td>\n",
              "    </tr>\n",
              "    <tr>\n",
              "      <th>889</th>\n",
              "      <td>890</td>\n",
              "      <td>1</td>\n",
              "      <td>1</td>\n",
              "      <td>Behr, Mr. Karl Howell</td>\n",
              "      <td>male</td>\n",
              "      <td>26.0</td>\n",
              "      <td>0</td>\n",
              "      <td>0</td>\n",
              "      <td>111369</td>\n",
              "      <td>30.0000</td>\n",
              "      <td>C148</td>\n",
              "      <td>C</td>\n",
              "    </tr>\n",
              "    <tr>\n",
              "      <th>890</th>\n",
              "      <td>891</td>\n",
              "      <td>0</td>\n",
              "      <td>3</td>\n",
              "      <td>Dooley, Mr. Patrick</td>\n",
              "      <td>male</td>\n",
              "      <td>32.0</td>\n",
              "      <td>0</td>\n",
              "      <td>0</td>\n",
              "      <td>370376</td>\n",
              "      <td>7.7500</td>\n",
              "      <td>NaN</td>\n",
              "      <td>Q</td>\n",
              "    </tr>\n",
              "  </tbody>\n",
              "</table>\n",
              "<p>891 rows × 12 columns</p>\n",
              "</div>"
            ],
            "text/plain": [
              "     PassengerId  Survived  Pclass  ...     Fare Cabin  Embarked\n",
              "0              1         0       3  ...   7.2500   NaN         S\n",
              "1              2         1       1  ...  71.2833   C85         C\n",
              "2              3         1       3  ...   7.9250   NaN         S\n",
              "3              4         1       1  ...  53.1000  C123         S\n",
              "4              5         0       3  ...   8.0500   NaN         S\n",
              "..           ...       ...     ...  ...      ...   ...       ...\n",
              "886          887         0       2  ...  13.0000   NaN         S\n",
              "887          888         1       1  ...  30.0000   B42         S\n",
              "888          889         0       3  ...  23.4500   NaN         S\n",
              "889          890         1       1  ...  30.0000  C148         C\n",
              "890          891         0       3  ...   7.7500   NaN         Q\n",
              "\n",
              "[891 rows x 12 columns]"
            ]
          },
          "metadata": {},
          "execution_count": 53
        }
      ]
    }
  ]
}