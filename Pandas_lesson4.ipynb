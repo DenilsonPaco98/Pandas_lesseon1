{
  "nbformat": 4,
  "nbformat_minor": 0,
  "metadata": {
    "colab": {
      "name": "Pandas_lesson4.ipynb",
      "provenance": [],
      "authorship_tag": "ABX9TyOG405SCjfhnrMU6rn60VmW",
      "include_colab_link": true
    },
    "kernelspec": {
      "name": "python3",
      "display_name": "Python 3"
    },
    "language_info": {
      "name": "python"
    }
  },
  "cells": [
    {
      "cell_type": "markdown",
      "metadata": {
        "id": "view-in-github",
        "colab_type": "text"
      },
      "source": [
        "<a href=\"https://colab.research.google.com/github/DenilsonPaco98/Pandas_lesson/blob/main/Pandas_lesson4.ipynb\" target=\"_parent\"><img src=\"https://colab.research.google.com/assets/colab-badge.svg\" alt=\"Open In Colab\"/></a>"
      ]
    },
    {
      "cell_type": "markdown",
      "metadata": {
        "id": "OweCjPJc665x"
      },
      "source": [
        "<h1>Pandas lesson : 4 "
      ]
    },
    {
      "cell_type": "code",
      "metadata": {
        "id": "q4rAL80q60ul"
      },
      "source": [
        "#import\n",
        "import pandas as pd"
      ],
      "execution_count": null,
      "outputs": []
    },
    {
      "cell_type": "code",
      "metadata": {
        "colab": {
          "base_uri": "https://localhost:8080/",
          "height": 204
        },
        "id": "puHji48r7KcR",
        "outputId": "9819e2e8-18f1-4a3a-d8fe-a702c1f66be6"
      },
      "source": [
        "titanic = pd.read_csv(\"titanic.csv\")\n",
        "titanic.head()"
      ],
      "execution_count": null,
      "outputs": [
        {
          "output_type": "execute_result",
          "data": {
            "text/html": [
              "<div>\n",
              "<style scoped>\n",
              "    .dataframe tbody tr th:only-of-type {\n",
              "        vertical-align: middle;\n",
              "    }\n",
              "\n",
              "    .dataframe tbody tr th {\n",
              "        vertical-align: top;\n",
              "    }\n",
              "\n",
              "    .dataframe thead th {\n",
              "        text-align: right;\n",
              "    }\n",
              "</style>\n",
              "<table border=\"1\" class=\"dataframe\">\n",
              "  <thead>\n",
              "    <tr style=\"text-align: right;\">\n",
              "      <th></th>\n",
              "      <th>PassengerId</th>\n",
              "      <th>Survived</th>\n",
              "      <th>Pclass</th>\n",
              "      <th>Name</th>\n",
              "      <th>Sex</th>\n",
              "      <th>Age</th>\n",
              "      <th>SibSp</th>\n",
              "      <th>Parch</th>\n",
              "      <th>Ticket</th>\n",
              "      <th>Fare</th>\n",
              "      <th>Cabin</th>\n",
              "      <th>Embarked</th>\n",
              "    </tr>\n",
              "  </thead>\n",
              "  <tbody>\n",
              "    <tr>\n",
              "      <th>0</th>\n",
              "      <td>1</td>\n",
              "      <td>0</td>\n",
              "      <td>3</td>\n",
              "      <td>Braund, Mr. Owen Harris</td>\n",
              "      <td>male</td>\n",
              "      <td>22.0</td>\n",
              "      <td>1</td>\n",
              "      <td>0</td>\n",
              "      <td>A/5 21171</td>\n",
              "      <td>7.2500</td>\n",
              "      <td>NaN</td>\n",
              "      <td>S</td>\n",
              "    </tr>\n",
              "    <tr>\n",
              "      <th>1</th>\n",
              "      <td>2</td>\n",
              "      <td>1</td>\n",
              "      <td>1</td>\n",
              "      <td>Cumings, Mrs. John Bradley (Florence Briggs Th...</td>\n",
              "      <td>female</td>\n",
              "      <td>38.0</td>\n",
              "      <td>1</td>\n",
              "      <td>0</td>\n",
              "      <td>PC 17599</td>\n",
              "      <td>71.2833</td>\n",
              "      <td>C85</td>\n",
              "      <td>C</td>\n",
              "    </tr>\n",
              "    <tr>\n",
              "      <th>2</th>\n",
              "      <td>3</td>\n",
              "      <td>1</td>\n",
              "      <td>3</td>\n",
              "      <td>Heikkinen, Miss. Laina</td>\n",
              "      <td>female</td>\n",
              "      <td>26.0</td>\n",
              "      <td>0</td>\n",
              "      <td>0</td>\n",
              "      <td>STON/O2. 3101282</td>\n",
              "      <td>7.9250</td>\n",
              "      <td>NaN</td>\n",
              "      <td>S</td>\n",
              "    </tr>\n",
              "    <tr>\n",
              "      <th>3</th>\n",
              "      <td>4</td>\n",
              "      <td>1</td>\n",
              "      <td>1</td>\n",
              "      <td>Futrelle, Mrs. Jacques Heath (Lily May Peel)</td>\n",
              "      <td>female</td>\n",
              "      <td>35.0</td>\n",
              "      <td>1</td>\n",
              "      <td>0</td>\n",
              "      <td>113803</td>\n",
              "      <td>53.1000</td>\n",
              "      <td>C123</td>\n",
              "      <td>S</td>\n",
              "    </tr>\n",
              "    <tr>\n",
              "      <th>4</th>\n",
              "      <td>5</td>\n",
              "      <td>0</td>\n",
              "      <td>3</td>\n",
              "      <td>Allen, Mr. William Henry</td>\n",
              "      <td>male</td>\n",
              "      <td>35.0</td>\n",
              "      <td>0</td>\n",
              "      <td>0</td>\n",
              "      <td>373450</td>\n",
              "      <td>8.0500</td>\n",
              "      <td>NaN</td>\n",
              "      <td>S</td>\n",
              "    </tr>\n",
              "  </tbody>\n",
              "</table>\n",
              "</div>"
            ],
            "text/plain": [
              "   PassengerId  Survived  Pclass  ...     Fare Cabin  Embarked\n",
              "0            1         0       3  ...   7.2500   NaN         S\n",
              "1            2         1       1  ...  71.2833   C85         C\n",
              "2            3         1       3  ...   7.9250   NaN         S\n",
              "3            4         1       1  ...  53.1000  C123         S\n",
              "4            5         0       3  ...   8.0500   NaN         S\n",
              "\n",
              "[5 rows x 12 columns]"
            ]
          },
          "metadata": {},
          "execution_count": 3
        }
      ]
    },
    {
      "cell_type": "markdown",
      "metadata": {
        "id": "9YI5VSG-7sOy"
      },
      "source": [
        "<h1>Como calculcar estatísticas resumidas ?"
      ]
    },
    {
      "cell_type": "markdown",
      "metadata": {
        "id": "lUw_xbW77xjo"
      },
      "source": [
        "![image.png](data:image/png;base64,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)"
      ]
    },
    {
      "cell_type": "code",
      "metadata": {
        "colab": {
          "base_uri": "https://localhost:8080/"
        },
        "id": "qEzGN1f97jnp",
        "outputId": "530cb3d4-c3b9-4fa9-94e7-b97294229e74"
      },
      "source": [
        "#Qual é a idade média dos meus passageiros ?\n",
        "titanic[\"Age\"].mean()"
      ],
      "execution_count": null,
      "outputs": [
        {
          "output_type": "execute_result",
          "data": {
            "text/plain": [
              "29.69911764705882"
            ]
          },
          "metadata": {},
          "execution_count": 4
        }
      ]
    },
    {
      "cell_type": "code",
      "metadata": {
        "colab": {
          "base_uri": "https://localhost:8080/"
        },
        "id": "3jRpjWWU84Gb",
        "outputId": "96fc7bc0-a341-4205-b55a-1b5a340130ca"
      },
      "source": [
        "#Idade média e preço dos passageiros \n",
        "titanic[[\"Age\",\"Fare\"]].median()"
      ],
      "execution_count": null,
      "outputs": [
        {
          "output_type": "execute_result",
          "data": {
            "text/plain": [
              "Age     28.0000\n",
              "Fare    14.4542\n",
              "dtype: float64"
            ]
          },
          "metadata": {},
          "execution_count": 8
        }
      ]
    },
    {
      "cell_type": "code",
      "metadata": {
        "colab": {
          "base_uri": "https://localhost:8080/",
          "height": 297
        },
        "id": "KggfdCS1hJhX",
        "outputId": "23b8c187-fbb4-4ed9-ae9a-83e1eb1dc432"
      },
      "source": [
        "#estatistica de agragação \n",
        "titanic[[\"Age\",\"Fare\"]].describe()"
      ],
      "execution_count": null,
      "outputs": [
        {
          "output_type": "execute_result",
          "data": {
            "text/html": [
              "<div>\n",
              "<style scoped>\n",
              "    .dataframe tbody tr th:only-of-type {\n",
              "        vertical-align: middle;\n",
              "    }\n",
              "\n",
              "    .dataframe tbody tr th {\n",
              "        vertical-align: top;\n",
              "    }\n",
              "\n",
              "    .dataframe thead th {\n",
              "        text-align: right;\n",
              "    }\n",
              "</style>\n",
              "<table border=\"1\" class=\"dataframe\">\n",
              "  <thead>\n",
              "    <tr style=\"text-align: right;\">\n",
              "      <th></th>\n",
              "      <th>Age</th>\n",
              "      <th>Fare</th>\n",
              "    </tr>\n",
              "  </thead>\n",
              "  <tbody>\n",
              "    <tr>\n",
              "      <th>count</th>\n",
              "      <td>714.000000</td>\n",
              "      <td>891.000000</td>\n",
              "    </tr>\n",
              "    <tr>\n",
              "      <th>mean</th>\n",
              "      <td>29.699118</td>\n",
              "      <td>32.204208</td>\n",
              "    </tr>\n",
              "    <tr>\n",
              "      <th>std</th>\n",
              "      <td>14.526497</td>\n",
              "      <td>49.693429</td>\n",
              "    </tr>\n",
              "    <tr>\n",
              "      <th>min</th>\n",
              "      <td>0.420000</td>\n",
              "      <td>0.000000</td>\n",
              "    </tr>\n",
              "    <tr>\n",
              "      <th>25%</th>\n",
              "      <td>20.125000</td>\n",
              "      <td>7.910400</td>\n",
              "    </tr>\n",
              "    <tr>\n",
              "      <th>50%</th>\n",
              "      <td>28.000000</td>\n",
              "      <td>14.454200</td>\n",
              "    </tr>\n",
              "    <tr>\n",
              "      <th>75%</th>\n",
              "      <td>38.000000</td>\n",
              "      <td>31.000000</td>\n",
              "    </tr>\n",
              "    <tr>\n",
              "      <th>max</th>\n",
              "      <td>80.000000</td>\n",
              "      <td>512.329200</td>\n",
              "    </tr>\n",
              "  </tbody>\n",
              "</table>\n",
              "</div>"
            ],
            "text/plain": [
              "              Age        Fare\n",
              "count  714.000000  891.000000\n",
              "mean    29.699118   32.204208\n",
              "std     14.526497   49.693429\n",
              "min      0.420000    0.000000\n",
              "25%     20.125000    7.910400\n",
              "50%     28.000000   14.454200\n",
              "75%     38.000000   31.000000\n",
              "max     80.000000  512.329200"
            ]
          },
          "metadata": {},
          "execution_count": 9
        }
      ]
    },
    {
      "cell_type": "code",
      "metadata": {
        "colab": {
          "base_uri": "https://localhost:8080/",
          "height": 204
        },
        "id": "zJYgKigqhfoW",
        "outputId": "ddf736a1-6294-49a1-9f82-e572e6bb82b3"
      },
      "source": [
        "#podemos escolher nossa propia estatistica de defeinição\n",
        "titanic.agg(\n",
        "    {\n",
        "        \"Age\":[\"min\",\"max\",\"median\",\"skew\"],\n",
        "        \"Fare\":[\"min\",\"max\",\"median\",\"mean\"],\n",
        "     \n",
        "    }\n",
        ")"
      ],
      "execution_count": null,
      "outputs": [
        {
          "output_type": "execute_result",
          "data": {
            "text/html": [
              "<div>\n",
              "<style scoped>\n",
              "    .dataframe tbody tr th:only-of-type {\n",
              "        vertical-align: middle;\n",
              "    }\n",
              "\n",
              "    .dataframe tbody tr th {\n",
              "        vertical-align: top;\n",
              "    }\n",
              "\n",
              "    .dataframe thead th {\n",
              "        text-align: right;\n",
              "    }\n",
              "</style>\n",
              "<table border=\"1\" class=\"dataframe\">\n",
              "  <thead>\n",
              "    <tr style=\"text-align: right;\">\n",
              "      <th></th>\n",
              "      <th>Age</th>\n",
              "      <th>Fare</th>\n",
              "    </tr>\n",
              "  </thead>\n",
              "  <tbody>\n",
              "    <tr>\n",
              "      <th>max</th>\n",
              "      <td>80.000000</td>\n",
              "      <td>512.329200</td>\n",
              "    </tr>\n",
              "    <tr>\n",
              "      <th>mean</th>\n",
              "      <td>NaN</td>\n",
              "      <td>32.204208</td>\n",
              "    </tr>\n",
              "    <tr>\n",
              "      <th>median</th>\n",
              "      <td>28.000000</td>\n",
              "      <td>14.454200</td>\n",
              "    </tr>\n",
              "    <tr>\n",
              "      <th>min</th>\n",
              "      <td>0.420000</td>\n",
              "      <td>0.000000</td>\n",
              "    </tr>\n",
              "    <tr>\n",
              "      <th>skew</th>\n",
              "      <td>0.389108</td>\n",
              "      <td>NaN</td>\n",
              "    </tr>\n",
              "  </tbody>\n",
              "</table>\n",
              "</div>"
            ],
            "text/plain": [
              "              Age        Fare\n",
              "max     80.000000  512.329200\n",
              "mean          NaN   32.204208\n",
              "median  28.000000   14.454200\n",
              "min      0.420000    0.000000\n",
              "skew     0.389108         NaN"
            ]
          },
          "metadata": {},
          "execution_count": 11
        }
      ]
    },
    {
      "cell_type": "markdown",
      "metadata": {
        "id": "ehJq-uVYibiV"
      },
      "source": [
        "<h1>Estatísticas agregadas agrupadas por categoria"
      ]
    },
    {
      "cell_type": "markdown",
      "metadata": {
        "id": "x8plGrfJixm9"
      },
      "source": [
        "![image.png](data:image/png;base64,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)"
      ]
    },
    {
      "cell_type": "code",
      "metadata": {
        "colab": {
          "base_uri": "https://localhost:8080/",
          "height": 142
        },
        "id": "-YJNp6SZidkM",
        "outputId": "d115f181-c2dd-42e7-9e89-4c897cee0cc3"
      },
      "source": [
        "#Qual é idade média dos passageiros do Titanic do sexo masculino em relação feminino\n",
        "titanic[[\"Sex\",\"Age\"]].groupby(\"Sex\").mean()"
      ],
      "execution_count": null,
      "outputs": [
        {
          "output_type": "execute_result",
          "data": {
            "text/html": [
              "<div>\n",
              "<style scoped>\n",
              "    .dataframe tbody tr th:only-of-type {\n",
              "        vertical-align: middle;\n",
              "    }\n",
              "\n",
              "    .dataframe tbody tr th {\n",
              "        vertical-align: top;\n",
              "    }\n",
              "\n",
              "    .dataframe thead th {\n",
              "        text-align: right;\n",
              "    }\n",
              "</style>\n",
              "<table border=\"1\" class=\"dataframe\">\n",
              "  <thead>\n",
              "    <tr style=\"text-align: right;\">\n",
              "      <th></th>\n",
              "      <th>Age</th>\n",
              "    </tr>\n",
              "    <tr>\n",
              "      <th>Sex</th>\n",
              "      <th></th>\n",
              "    </tr>\n",
              "  </thead>\n",
              "  <tbody>\n",
              "    <tr>\n",
              "      <th>female</th>\n",
              "      <td>27.915709</td>\n",
              "    </tr>\n",
              "    <tr>\n",
              "      <th>male</th>\n",
              "      <td>30.726645</td>\n",
              "    </tr>\n",
              "  </tbody>\n",
              "</table>\n",
              "</div>"
            ],
            "text/plain": [
              "              Age\n",
              "Sex              \n",
              "female  27.915709\n",
              "male    30.726645"
            ]
          },
          "metadata": {},
          "execution_count": 13
        }
      ]
    },
    {
      "cell_type": "code",
      "metadata": {
        "colab": {
          "base_uri": "https://localhost:8080/",
          "height": 142
        },
        "id": "qBhbmLx3s2Oc",
        "outputId": "d00678d5-c860-4e44-e1ae-c8237c31dd25"
      },
      "source": [
        "#Adicionamos todas as colunas e colocamos agrupamos no genero para cacular a média \n",
        "titanic.groupby(\"Sex\").mean()"
      ],
      "execution_count": null,
      "outputs": [
        {
          "output_type": "execute_result",
          "data": {
            "text/html": [
              "<div>\n",
              "<style scoped>\n",
              "    .dataframe tbody tr th:only-of-type {\n",
              "        vertical-align: middle;\n",
              "    }\n",
              "\n",
              "    .dataframe tbody tr th {\n",
              "        vertical-align: top;\n",
              "    }\n",
              "\n",
              "    .dataframe thead th {\n",
              "        text-align: right;\n",
              "    }\n",
              "</style>\n",
              "<table border=\"1\" class=\"dataframe\">\n",
              "  <thead>\n",
              "    <tr style=\"text-align: right;\">\n",
              "      <th></th>\n",
              "      <th>PassengerId</th>\n",
              "      <th>Survived</th>\n",
              "      <th>Pclass</th>\n",
              "      <th>Age</th>\n",
              "      <th>SibSp</th>\n",
              "      <th>Parch</th>\n",
              "      <th>Fare</th>\n",
              "    </tr>\n",
              "    <tr>\n",
              "      <th>Sex</th>\n",
              "      <th></th>\n",
              "      <th></th>\n",
              "      <th></th>\n",
              "      <th></th>\n",
              "      <th></th>\n",
              "      <th></th>\n",
              "      <th></th>\n",
              "    </tr>\n",
              "  </thead>\n",
              "  <tbody>\n",
              "    <tr>\n",
              "      <th>female</th>\n",
              "      <td>431.028662</td>\n",
              "      <td>0.742038</td>\n",
              "      <td>2.159236</td>\n",
              "      <td>27.915709</td>\n",
              "      <td>0.694268</td>\n",
              "      <td>0.649682</td>\n",
              "      <td>44.479818</td>\n",
              "    </tr>\n",
              "    <tr>\n",
              "      <th>male</th>\n",
              "      <td>454.147314</td>\n",
              "      <td>0.188908</td>\n",
              "      <td>2.389948</td>\n",
              "      <td>30.726645</td>\n",
              "      <td>0.429809</td>\n",
              "      <td>0.235702</td>\n",
              "      <td>25.523893</td>\n",
              "    </tr>\n",
              "  </tbody>\n",
              "</table>\n",
              "</div>"
            ],
            "text/plain": [
              "        PassengerId  Survived    Pclass  ...     SibSp     Parch       Fare\n",
              "Sex                                      ...                               \n",
              "female   431.028662  0.742038  2.159236  ...  0.694268  0.649682  44.479818\n",
              "male     454.147314  0.188908  2.389948  ...  0.429809  0.235702  25.523893\n",
              "\n",
              "[2 rows x 7 columns]"
            ]
          },
          "metadata": {},
          "execution_count": 15
        }
      ]
    },
    {
      "cell_type": "code",
      "metadata": {
        "colab": {
          "base_uri": "https://localhost:8080/",
          "height": 419
        },
        "id": "qEA-gmuOt4Z1",
        "outputId": "a9210ead-00eb-481a-cbb1-b17f89a2b536"
      },
      "source": [
        "display(titanic)"
      ],
      "execution_count": null,
      "outputs": [
        {
          "output_type": "display_data",
          "data": {
            "text/html": [
              "<div>\n",
              "<style scoped>\n",
              "    .dataframe tbody tr th:only-of-type {\n",
              "        vertical-align: middle;\n",
              "    }\n",
              "\n",
              "    .dataframe tbody tr th {\n",
              "        vertical-align: top;\n",
              "    }\n",
              "\n",
              "    .dataframe thead th {\n",
              "        text-align: right;\n",
              "    }\n",
              "</style>\n",
              "<table border=\"1\" class=\"dataframe\">\n",
              "  <thead>\n",
              "    <tr style=\"text-align: right;\">\n",
              "      <th></th>\n",
              "      <th>PassengerId</th>\n",
              "      <th>Survived</th>\n",
              "      <th>Pclass</th>\n",
              "      <th>Name</th>\n",
              "      <th>Sex</th>\n",
              "      <th>Age</th>\n",
              "      <th>SibSp</th>\n",
              "      <th>Parch</th>\n",
              "      <th>Ticket</th>\n",
              "      <th>Fare</th>\n",
              "      <th>Cabin</th>\n",
              "      <th>Embarked</th>\n",
              "    </tr>\n",
              "  </thead>\n",
              "  <tbody>\n",
              "    <tr>\n",
              "      <th>0</th>\n",
              "      <td>1</td>\n",
              "      <td>0</td>\n",
              "      <td>3</td>\n",
              "      <td>Braund, Mr. Owen Harris</td>\n",
              "      <td>male</td>\n",
              "      <td>22.0</td>\n",
              "      <td>1</td>\n",
              "      <td>0</td>\n",
              "      <td>A/5 21171</td>\n",
              "      <td>7.2500</td>\n",
              "      <td>NaN</td>\n",
              "      <td>S</td>\n",
              "    </tr>\n",
              "    <tr>\n",
              "      <th>1</th>\n",
              "      <td>2</td>\n",
              "      <td>1</td>\n",
              "      <td>1</td>\n",
              "      <td>Cumings, Mrs. John Bradley (Florence Briggs Th...</td>\n",
              "      <td>female</td>\n",
              "      <td>38.0</td>\n",
              "      <td>1</td>\n",
              "      <td>0</td>\n",
              "      <td>PC 17599</td>\n",
              "      <td>71.2833</td>\n",
              "      <td>C85</td>\n",
              "      <td>C</td>\n",
              "    </tr>\n",
              "    <tr>\n",
              "      <th>2</th>\n",
              "      <td>3</td>\n",
              "      <td>1</td>\n",
              "      <td>3</td>\n",
              "      <td>Heikkinen, Miss. Laina</td>\n",
              "      <td>female</td>\n",
              "      <td>26.0</td>\n",
              "      <td>0</td>\n",
              "      <td>0</td>\n",
              "      <td>STON/O2. 3101282</td>\n",
              "      <td>7.9250</td>\n",
              "      <td>NaN</td>\n",
              "      <td>S</td>\n",
              "    </tr>\n",
              "    <tr>\n",
              "      <th>3</th>\n",
              "      <td>4</td>\n",
              "      <td>1</td>\n",
              "      <td>1</td>\n",
              "      <td>Futrelle, Mrs. Jacques Heath (Lily May Peel)</td>\n",
              "      <td>female</td>\n",
              "      <td>35.0</td>\n",
              "      <td>1</td>\n",
              "      <td>0</td>\n",
              "      <td>113803</td>\n",
              "      <td>53.1000</td>\n",
              "      <td>C123</td>\n",
              "      <td>S</td>\n",
              "    </tr>\n",
              "    <tr>\n",
              "      <th>4</th>\n",
              "      <td>5</td>\n",
              "      <td>0</td>\n",
              "      <td>3</td>\n",
              "      <td>Allen, Mr. William Henry</td>\n",
              "      <td>male</td>\n",
              "      <td>35.0</td>\n",
              "      <td>0</td>\n",
              "      <td>0</td>\n",
              "      <td>373450</td>\n",
              "      <td>8.0500</td>\n",
              "      <td>NaN</td>\n",
              "      <td>S</td>\n",
              "    </tr>\n",
              "    <tr>\n",
              "      <th>...</th>\n",
              "      <td>...</td>\n",
              "      <td>...</td>\n",
              "      <td>...</td>\n",
              "      <td>...</td>\n",
              "      <td>...</td>\n",
              "      <td>...</td>\n",
              "      <td>...</td>\n",
              "      <td>...</td>\n",
              "      <td>...</td>\n",
              "      <td>...</td>\n",
              "      <td>...</td>\n",
              "      <td>...</td>\n",
              "    </tr>\n",
              "    <tr>\n",
              "      <th>886</th>\n",
              "      <td>887</td>\n",
              "      <td>0</td>\n",
              "      <td>2</td>\n",
              "      <td>Montvila, Rev. Juozas</td>\n",
              "      <td>male</td>\n",
              "      <td>27.0</td>\n",
              "      <td>0</td>\n",
              "      <td>0</td>\n",
              "      <td>211536</td>\n",
              "      <td>13.0000</td>\n",
              "      <td>NaN</td>\n",
              "      <td>S</td>\n",
              "    </tr>\n",
              "    <tr>\n",
              "      <th>887</th>\n",
              "      <td>888</td>\n",
              "      <td>1</td>\n",
              "      <td>1</td>\n",
              "      <td>Graham, Miss. Margaret Edith</td>\n",
              "      <td>female</td>\n",
              "      <td>19.0</td>\n",
              "      <td>0</td>\n",
              "      <td>0</td>\n",
              "      <td>112053</td>\n",
              "      <td>30.0000</td>\n",
              "      <td>B42</td>\n",
              "      <td>S</td>\n",
              "    </tr>\n",
              "    <tr>\n",
              "      <th>888</th>\n",
              "      <td>889</td>\n",
              "      <td>0</td>\n",
              "      <td>3</td>\n",
              "      <td>Johnston, Miss. Catherine Helen \"Carrie\"</td>\n",
              "      <td>female</td>\n",
              "      <td>NaN</td>\n",
              "      <td>1</td>\n",
              "      <td>2</td>\n",
              "      <td>W./C. 6607</td>\n",
              "      <td>23.4500</td>\n",
              "      <td>NaN</td>\n",
              "      <td>S</td>\n",
              "    </tr>\n",
              "    <tr>\n",
              "      <th>889</th>\n",
              "      <td>890</td>\n",
              "      <td>1</td>\n",
              "      <td>1</td>\n",
              "      <td>Behr, Mr. Karl Howell</td>\n",
              "      <td>male</td>\n",
              "      <td>26.0</td>\n",
              "      <td>0</td>\n",
              "      <td>0</td>\n",
              "      <td>111369</td>\n",
              "      <td>30.0000</td>\n",
              "      <td>C148</td>\n",
              "      <td>C</td>\n",
              "    </tr>\n",
              "    <tr>\n",
              "      <th>890</th>\n",
              "      <td>891</td>\n",
              "      <td>0</td>\n",
              "      <td>3</td>\n",
              "      <td>Dooley, Mr. Patrick</td>\n",
              "      <td>male</td>\n",
              "      <td>32.0</td>\n",
              "      <td>0</td>\n",
              "      <td>0</td>\n",
              "      <td>370376</td>\n",
              "      <td>7.7500</td>\n",
              "      <td>NaN</td>\n",
              "      <td>Q</td>\n",
              "    </tr>\n",
              "  </tbody>\n",
              "</table>\n",
              "<p>891 rows × 12 columns</p>\n",
              "</div>"
            ],
            "text/plain": [
              "     PassengerId  Survived  Pclass  ...     Fare Cabin  Embarked\n",
              "0              1         0       3  ...   7.2500   NaN         S\n",
              "1              2         1       1  ...  71.2833   C85         C\n",
              "2              3         1       3  ...   7.9250   NaN         S\n",
              "3              4         1       1  ...  53.1000  C123         S\n",
              "4              5         0       3  ...   8.0500   NaN         S\n",
              "..           ...       ...     ...  ...      ...   ...       ...\n",
              "886          887         0       2  ...  13.0000   NaN         S\n",
              "887          888         1       1  ...  30.0000   B42         S\n",
              "888          889         0       3  ...  23.4500   NaN         S\n",
              "889          890         1       1  ...  30.0000  C148         C\n",
              "890          891         0       3  ...   7.7500   NaN         Q\n",
              "\n",
              "[891 rows x 12 columns]"
            ]
          },
          "metadata": {}
        }
      ]
    },
    {
      "cell_type": "code",
      "metadata": {
        "colab": {
          "base_uri": "https://localhost:8080/"
        },
        "id": "HzmvIJXttR8l",
        "outputId": "5c42c5a8-fe44-4437-dae4-e0e0dbf269ce"
      },
      "source": [
        "#Qual é o preço médio da passagem para cada uma das combinações de sexo e classe de cabine?\n",
        "titanic.groupby([\"Sex\",\"Pclass\"])[\"Fare\"].mean()"
      ],
      "execution_count": null,
      "outputs": [
        {
          "output_type": "execute_result",
          "data": {
            "text/plain": [
              "Sex     Pclass\n",
              "female  1         106.125798\n",
              "        2          21.970121\n",
              "        3          16.118810\n",
              "male    1          67.226127\n",
              "        2          19.741782\n",
              "        3          12.661633\n",
              "Name: Fare, dtype: float64"
            ]
          },
          "metadata": {},
          "execution_count": 30
        }
      ]
    },
    {
      "cell_type": "code",
      "metadata": {
        "colab": {
          "base_uri": "https://localhost:8080/"
        },
        "id": "arRwqw9QtzZc",
        "outputId": "dbe3089d-b479-4687-f907-4a1e1d867318"
      },
      "source": [
        "#Qual é o número de passageiros em cada uma das classes da cabine?\n",
        "titanic[\"Pclass\"].value_counts()"
      ],
      "execution_count": null,
      "outputs": [
        {
          "output_type": "execute_result",
          "data": {
            "text/plain": [
              "3    491\n",
              "1    216\n",
              "2    184\n",
              "Name: Pclass, dtype: int64"
            ]
          },
          "metadata": {},
          "execution_count": 28
        }
      ]
    },
    {
      "cell_type": "code",
      "metadata": {
        "colab": {
          "base_uri": "https://localhost:8080/"
        },
        "id": "cBzGfeoozDl1",
        "outputId": "caaa60dd-be3a-4ada-8739-5f43233fad4d"
      },
      "source": [
        "#Qual é o número de passageiros em cada uma das classes da cabine?\n",
        "titanic.groupby(\"Pclass\")[\"Pclass\"].count()"
      ],
      "execution_count": null,
      "outputs": [
        {
          "output_type": "execute_result",
          "data": {
            "text/plain": [
              "Pclass\n",
              "1    216\n",
              "2    184\n",
              "3    491\n",
              "Name: Pclass, dtype: int64"
            ]
          },
          "metadata": {},
          "execution_count": 29
        }
      ]
    }
  ]
}